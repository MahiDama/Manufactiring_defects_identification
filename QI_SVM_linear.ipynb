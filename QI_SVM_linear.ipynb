{
  "nbformat": 4,
  "nbformat_minor": 0,
  "metadata": {
    "colab": {
      "name": "QI_SVM_linear.ipynb",
      "provenance": []
    },
    "kernelspec": {
      "name": "python3",
      "display_name": "Python 3"
    },
    "language_info": {
      "name": "python"
    }
  },
  "cells": [
    {
      "cell_type": "code",
      "metadata": {
        "colab": {
          "base_uri": "https://localhost:8080/"
        },
        "id": "LpSWh3BRiQQu",
        "outputId": "cbdf9d22-308d-4a8c-8f90-a3ac6c918df7"
      },
      "source": [
        "from google.colab import drive\n",
        "drive.mount('/content/drive/', force_remount=True)"
      ],
      "execution_count": null,
      "outputs": [
        {
          "output_type": "stream",
          "text": [
            "Mounted at /content/drive/\n"
          ],
          "name": "stdout"
        }
      ]
    },
    {
      "cell_type": "code",
      "metadata": {
        "id": "2wa2AKdIiW8V"
      },
      "source": [
        "import pandas as pd\n",
        "import numpy as np \n",
        "import matplotlib.pyplot as plt \n",
        "import cv2 \n",
        "import time \n",
        "import os "
      ],
      "execution_count": null,
      "outputs": []
    },
    {
      "cell_type": "code",
      "metadata": {
        "id": "cyKVkYiRilVl"
      },
      "source": [
        "from sklearn.svm import SVC\n",
        "from sklearn.preprocessing import LabelEncoder \n",
        "from sklearn.metrics import accuracy_score, f1_score, recall_score, precision_score, confusion_matrix, roc_auc_score"
      ],
      "execution_count": null,
      "outputs": []
    },
    {
      "cell_type": "code",
      "metadata": {
        "colab": {
          "base_uri": "https://localhost:8080/"
        },
        "id": "XuCqqAg5im7D",
        "outputId": "8db87be7-4fac-4ac8-8f5e-cd6fdbb1d196"
      },
      "source": [
        "# load the npz file\n",
        "data_path = '/content/drive/MyDrive/QI/train_compiled.npz'\n",
        "train_data   = np.load(data_path, mmap_mode='r')\n",
        "for k in train_data.files:\n",
        "  print(k)"
      ],
      "execution_count": null,
      "outputs": [
        {
          "output_type": "stream",
          "text": [
            "x_data\n",
            "y_data\n"
          ],
          "name": "stdout"
        }
      ]
    },
    {
      "cell_type": "code",
      "metadata": {
        "id": "QhcV7fHfioX2"
      },
      "source": [
        "x_data_train = train_data['x_data']\n",
        "y_data_train = train_data['y_data']"
      ],
      "execution_count": null,
      "outputs": []
    },
    {
      "cell_type": "code",
      "metadata": {
        "colab": {
          "base_uri": "https://localhost:8080/"
        },
        "id": "NOX8LjNtiqKd",
        "outputId": "fb779c67-24b2-4c66-bd7a-858c4ca877ee"
      },
      "source": [
        "# load the npz file\n",
        "data_path_test = '/content/drive/MyDrive/QI/test_compiled.npz'\n",
        "test_data   = np.load(data_path_test, mmap_mode='r')\n",
        "for k in test_data.files:\n",
        "  print(k)"
      ],
      "execution_count": null,
      "outputs": [
        {
          "output_type": "stream",
          "text": [
            "x_data\n",
            "y_data\n"
          ],
          "name": "stdout"
        }
      ]
    },
    {
      "cell_type": "code",
      "metadata": {
        "id": "-y9HfxMNirzO"
      },
      "source": [
        "x_data_test = test_data['x_data']\n",
        "y_data_test = test_data['y_data']"
      ],
      "execution_count": null,
      "outputs": []
    },
    {
      "cell_type": "code",
      "metadata": {
        "id": "vG5YSmjhi6pC"
      },
      "source": [
        "model = SVC(kernel='linear')\n",
        "model.C = 100\n",
        "model.fit(x_data_train, y_data_train)\n",
        "pred = model.predict(x_data_test)"
      ],
      "execution_count": null,
      "outputs": []
    },
    {
      "cell_type": "code",
      "metadata": {
        "colab": {
          "base_uri": "https://localhost:8080/"
        },
        "id": "-P6t6DSgjGh_",
        "outputId": "4a54986a-332a-4915-c77d-3e7b1b2f1b4e"
      },
      "source": [
        "print('Accuracy: ', accuracy_score(y_data_test,pred))\n",
        "print('Precision: ', precision_score(y_data_test,pred))\n",
        "print('Recall: ', recall_score(y_data_test,pred))\n",
        "print('F1 Score: ', f1_score(y_data_test,pred))\n",
        "print('Area under the curve: ', roc_auc_score(y_data_test,pred))"
      ],
      "execution_count": null,
      "outputs": [
        {
          "output_type": "stream",
          "text": [
            "Accuracy:  0.8392857142857143\n",
            "Precision:  0.777319587628866\n",
            "Recall:  0.8072805139186295\n",
            "F1 Score:  0.7920168067226891\n",
            "Area under the curve:  0.8330520216651972\n"
          ],
          "name": "stdout"
        }
      ]
    },
    {
      "cell_type": "code",
      "metadata": {
        "colab": {
          "base_uri": "https://localhost:8080/"
        },
        "id": "iyl8BJIXjJCq",
        "outputId": "f437086c-301b-4981-e6d2-45a52de255a6"
      },
      "source": [
        "tn, fp, fn, tp = confusion_matrix(y_data_test,pred).ravel()\n",
        "\n",
        "print(\"true negative\", tn)\n",
        "print(\"false positive\", fp)\n",
        "print(\"false negative\", fn)\n",
        "print(\"true positive\", tp)\n",
        "specificity = tn / (tn+fp)\n",
        "print(\"specificity is {}\".format(specificity))"
      ],
      "execution_count": null,
      "outputs": [
        {
          "output_type": "stream",
          "text": [
            "true negative 657\n",
            "false positive 108\n",
            "false negative 90\n",
            "true positive 377\n",
            "specificity is 0.8588235294117647\n"
          ],
          "name": "stdout"
        }
      ]
    },
    {
      "cell_type": "code",
      "metadata": {
        "colab": {
          "base_uri": "https://localhost:8080/",
          "height": 296
        },
        "id": "F71AbNb2jKuo",
        "outputId": "6074fc2b-033d-4eba-a53d-f5c541cdbd1e"
      },
      "source": [
        "from sklearn.metrics import plot_roc_curve, plot_confusion_matrix, plot_precision_recall_curve\n",
        "plot_roc_curve(model, x_data_test, y_data_test)"
      ],
      "execution_count": null,
      "outputs": [
        {
          "output_type": "execute_result",
          "data": {
            "text/plain": [
              "<sklearn.metrics._plot.roc_curve.RocCurveDisplay at 0x7fbf1a61a250>"
            ]
          },
          "metadata": {
            "tags": []
          },
          "execution_count": 11
        },
        {
          "output_type": "display_data",
          "data": {
            "image/png": "[encoded data removed]",
            "text/plain": [
              "<Figure size 432x288 with 1 Axes>"
            ]
          },
          "metadata": {
            "tags": [],
            "needs_background": "light"
          }
        }
      ]
    },
    {
      "cell_type": "code",
      "metadata": {
        "colab": {
          "base_uri": "https://localhost:8080/",
          "height": 296
        },
        "id": "JAHOyEMOjMYz",
        "outputId": "ef25fd14-70ba-43db-959c-bc9dfb841cbe"
      },
      "source": [
        "plot_precision_recall_curve(model, x_data_test, y_data_test)"
      ],
      "execution_count": null,
      "outputs": [
        {
          "output_type": "execute_result",
          "data": {
            "text/plain": [
              "<sklearn.metrics._plot.precision_recall_curve.PrecisionRecallDisplay at 0x7fbf007ea5d0>"
            ]
          },
          "metadata": {
            "tags": []
          },
          "execution_count": 12
        },
        {
          "output_type": "display_data",
          "data": {
            "image/png": "[encoded data removed]",
            "text/plain": [
              "<Figure size 432x288 with 1 Axes>"
            ]
          },
          "metadata": {
            "tags": [],
            "needs_background": "light"
          }
        }
      ]
    },
    {
      "cell_type": "code",
      "metadata": {
        "colab": {
          "base_uri": "https://localhost:8080/",
          "height": 296
        },
        "id": "raxzIOFQjN87",
        "outputId": "f8d18e35-823b-4de1-ddcb-027076d8677f"
      },
      "source": [
        "plot_confusion_matrix(model, x_data_test, y_data_test, cmap='PuBu')"
      ],
      "execution_count": null,
      "outputs": [
        {
          "output_type": "execute_result",
          "data": {
            "text/plain": [
              "<sklearn.metrics._plot.confusion_matrix.ConfusionMatrixDisplay at 0x7fbf1a61a210>"
            ]
          },
          "metadata": {
            "tags": []
          },
          "execution_count": 13
        },
        {
          "output_type": "display_data",
          "data": {
            "image/png": "[encoded data removed]",
            "text/plain": [
              "<Figure size 432x288 with 2 Axes>"
            ]
          },
          "metadata": {
            "tags": [],
            "needs_background": "light"
          }
        }
      ]
    },
    {
      "cell_type": "code",
      "metadata": {
        "id": "ZUNtRPE-jPiW"
      },
      "source": [
        ""
      ],
      "execution_count": null,
      "outputs": []
    }
  ]
}