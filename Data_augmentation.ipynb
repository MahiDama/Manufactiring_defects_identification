{
  "nbformat": 4,
  "nbformat_minor": 0,
  "metadata": {
    "colab": {
      "name": "Data_augmentation.ipynb",
      "provenance": [],
      "collapsed_sections": []
    },
    "kernelspec": {
      "name": "python3",
      "display_name": "Python 3"
    },
    "language_info": {
      "name": "python"
    }
  },
  "cells": [
    {
      "cell_type": "code",
      "metadata": {
        "colab": {
          "base_uri": "https://localhost:8080/"
        },
        "id": "w-j0_T98UWQy",
        "outputId": "baa9607d-0888-448f-de95-53bba4ea1e82"
      },
      "source": [
        "from google.colab import drive \n",
        "drive.mount('/content/drive', force_remount=True)"
      ],
      "execution_count": null,
      "outputs": [
        {
          "output_type": "stream",
          "text": [
            "Mounted at /content/drive\n"
          ],
          "name": "stdout"
        }
      ]
    },
    {
      "cell_type": "code",
      "metadata": {
        "colab": {
          "base_uri": "https://localhost:8080/"
        },
        "id": "wV_whSZXUXfH",
        "outputId": "b0019e22-d62e-420d-abb9-ae24992f1593"
      },
      "source": [
        "%cd '/content/drive/MyDrive/QI/casting_512x512/'"
      ],
      "execution_count": null,
      "outputs": [
        {
          "output_type": "stream",
          "text": [
            "/content/drive/MyDrive/QI/casting_512x512\n"
          ],
          "name": "stdout"
        }
      ]
    },
    {
      "cell_type": "code",
      "metadata": {
        "id": "0qWyja40UfVQ"
      },
      "source": [
        "import pandas as pd\n",
        "import numpy as np \n",
        "import matplotlib.pyplot as plt \n",
        "import cv2 \n",
        "import time \n",
        "import os \n",
        "from IPython.display import clear_output "
      ],
      "execution_count": null,
      "outputs": []
    },
    {
      "cell_type": "code",
      "metadata": {
        "colab": {
          "base_uri": "https://localhost:8080/"
        },
        "id": "hpfA5TpAUh6E",
        "outputId": "416e6359-bc30-4e7a-92c4-d7f1a4c4ae8b"
      },
      "source": [
        "path = '/content/drive/MyDrive/QI/casting_512x512/'\n",
        "def_imgs = 0\n",
        "ok_imgs=0\n",
        "for i in os.listdir(path+'def_front'):\n",
        "  def_imgs+=1\n",
        "print('def_images: ', def_imgs)\n",
        "for i in os.listdir(path+'ok_front'):\n",
        "  ok_imgs+=1\n",
        "print('ok_images: ', ok_imgs)"
      ],
      "execution_count": null,
      "outputs": [
        {
          "output_type": "stream",
          "text": [
            "def_images:  3124\n",
            "ok_images:  2076\n"
          ],
          "name": "stdout"
        }
      ]
    },
    {
      "cell_type": "markdown",
      "metadata": {
        "id": "bNU1iGOUXyQy"
      },
      "source": [
        "Image Augmentations"
      ]
    },
    {
      "cell_type": "markdown",
      "metadata": {
        "id": "mSHU-sDTisWW"
      },
      "source": [
        "###Horizontal_flip"
      ]
    },
    {
      "cell_type": "code",
      "metadata": {
        "id": "n22SfcihX1oZ"
      },
      "source": [
        "# path = '/content/drive/MyDrive/QI/casting_512x512/def_front/'\n",
        "path = '/content/drive/MyDrive/QI/casting_512x512/ok_front/'\n",
        "# NumPy.'img' = A single image.\n",
        "for img in os.listdir(path):\n",
        "  i = cv2.imread(path+img)\n",
        "  img_flip_lr = cv2.flip(i, 1)\n",
        "  img_name = img.split('.')[0]\n",
        "  print(img_name)\n",
        "  cv2.imwrite(path+img_name+'_fh.jpeg', img_flip_lr)"
      ],
      "execution_count": null,
      "outputs": []
    },
    {
      "cell_type": "markdown",
      "metadata": {
        "id": "5-lakQrKiuwh"
      },
      "source": [
        "###Vertical_flip\n"
      ]
    },
    {
      "cell_type": "code",
      "metadata": {
        "id": "xQ96PhtlZRT1"
      },
      "source": [
        "# path = '/content/drive/MyDrive/QI/casting_512x512/def_front/'\n",
        "path = '/content/drive/MyDrive/QI/casting_512x512/ok_front/'\n",
        "# NumPy.'img' = A single image.\n",
        "for img in os.listdir(path):\n",
        "  i = cv2.imread(path+img)\n",
        "  img_flip_ud = cv2.flip(i, 0)\n",
        "  img_name = img.split('.')[0]\n",
        "  print(img_name)\n",
        "  cv2.imwrite(path+img_name+'_fv.jpeg', img_flip_ud)"
      ],
      "execution_count": null,
      "outputs": []
    },
    {
      "cell_type": "markdown",
      "metadata": {
        "id": "RbefsH3IkaC1"
      },
      "source": [
        "###Splitting into training and testing \n"
      ]
    },
    {
      "cell_type": "code",
      "metadata": {
        "colab": {
          "base_uri": "https://localhost:8080/"
        },
        "id": "QqevlL04B3vf",
        "outputId": "a742f1aa-a2b5-42a5-e30b-48f60806578d"
      },
      "source": [
        "!pip install split-folders"
      ],
      "execution_count": null,
      "outputs": [
        {
          "output_type": "stream",
          "text": [
            "Requirement already satisfied: split-folders in /usr/local/lib/python3.7/dist-packages (0.4.3)\n"
          ],
          "name": "stdout"
        }
      ]
    },
    {
      "cell_type": "code",
      "metadata": {
        "colab": {
          "base_uri": "https://localhost:8080/"
        },
        "id": "xvOgPQvLN5b3",
        "outputId": "f3b60883-2b6c-469a-a8e9-8586ad44e3dc"
      },
      "source": [
        "!pip install split-folders tqdm"
      ],
      "execution_count": null,
      "outputs": [
        {
          "output_type": "stream",
          "text": [
            "Requirement already satisfied: split-folders in /usr/local/lib/python3.7/dist-packages (0.4.3)\n",
            "Requirement already satisfied: tqdm in /usr/local/lib/python3.7/dist-packages (4.41.1)\n"
          ],
          "name": "stdout"
        }
      ]
    },
    {
      "cell_type": "code",
      "metadata": {
        "colab": {
          "base_uri": "https://localhost:8080/"
        },
        "id": "2JJVUeWmOPfS",
        "outputId": "9ad12a54-9724-48af-8f41-97f30e3239a9"
      },
      "source": [
        "%pwd\n",
        "!ls"
      ],
      "execution_count": null,
      "outputs": [
        {
          "output_type": "stream",
          "text": [
            "def_front  ok_front\n"
          ],
          "name": "stdout"
        }
      ]
    },
    {
      "cell_type": "code",
      "metadata": {
        "colab": {
          "base_uri": "https://localhost:8080/"
        },
        "id": "elGRGOTbOBYa",
        "outputId": "3a759619-b462-4d8c-c0c8-0cdac156c43b"
      },
      "source": [
        "import splitfolders\n",
        "splitfolders.fixed(\"/content/drive/MyDrive/QI/casting_512x512/ok_front/\", \n",
        "                   output=\"/content/drive/MyDrive/QI/casting_512x512/ok_output\", seed=1337, fixed=(1868,208), group_prefix=None)"
      ],
      "execution_count": null,
      "outputs": [
        {
          "output_type": "stream",
          "text": [
            "Copying files: 0 files [00:00, ? files/s]\n"
          ],
          "name": "stderr"
        }
      ]
    }
  ]
}