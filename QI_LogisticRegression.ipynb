{
  "nbformat": 4,
  "nbformat_minor": 0,
  "metadata": {
    "colab": {
      "name": "QI_LogisticRegression.ipynb",
      "provenance": [],
      "collapsed_sections": []
    },
    "kernelspec": {
      "name": "python3",
      "display_name": "Python 3"
    },
    "language_info": {
      "name": "python"
    }
  },
  "cells": [
    {
      "cell_type": "code",
      "metadata": {
        "colab": {
          "base_uri": "https://localhost:8080/"
        },
        "id": "afkDuyrKuwWY",
        "outputId": "7367c4b1-cc72-42d7-c6a5-16e5c7a2e734"
      },
      "source": [
        "from google.colab import drive \n",
        "drive.mount('/content/drive', force_remount=True)"
      ],
      "execution_count": null,
      "outputs": [
        {
          "output_type": "stream",
          "text": [
            "Mounted at /content/drive\n"
          ],
          "name": "stdout"
        }
      ]
    },
    {
      "cell_type": "code",
      "metadata": {
        "id": "IY2yxfG6kX8R",
        "colab": {
          "base_uri": "https://localhost:8080/"
        },
        "outputId": "705a7db9-de40-4ca8-d0d2-67f19e6b3f97"
      },
      "source": [
        "%cd '/content/drive/MyDrive/QI/casting_data/'"
      ],
      "execution_count": null,
      "outputs": [
        {
          "output_type": "stream",
          "text": [
            "/content/drive/MyDrive/QI/casting_data\n"
          ],
          "name": "stdout"
        }
      ]
    },
    {
      "cell_type": "code",
      "metadata": {
        "id": "nYE_YpDRvB_k"
      },
      "source": [
        "import pandas as pd\n",
        "import numpy as np \n",
        "import matplotlib.pyplot as plt \n",
        "import cv2 \n",
        "import time \n",
        "import os \n",
        "from IPython.display import clear_output "
      ],
      "execution_count": null,
      "outputs": []
    },
    {
      "cell_type": "code",
      "metadata": {
        "id": "pp0WkZniiFHv"
      },
      "source": [
        "from sklearn.neighbors import KNeighborsClassifier\n",
        "from sklearn.svm import SVC\n",
        "from sklearn.linear_model import LogisticRegression\n",
        "from sklearn.naive_bayes import GaussianNB\n",
        "from sklearn.tree import DecisionTreeClassifier\n",
        "from sklearn.preprocessing import LabelEncoder \n",
        "from sklearn.metrics import accuracy_score, f1_score, recall_score, precision_score"
      ],
      "execution_count": null,
      "outputs": []
    },
    {
      "cell_type": "code",
      "metadata": {
        "colab": {
          "base_uri": "https://localhost:8080/"
        },
        "id": "_GTRmO7BiHab",
        "outputId": "bef45733-0a48-4584-8f8f-3a02c32c71a9"
      },
      "source": [
        "path_train = '/content/drive/MyDrive/QI/casting_data/train/'\n",
        "def_imgs = 0\n",
        "ok_imgs=0\n",
        "for i in os.listdir(path_train+'def_front'):\n",
        "  def_imgs+=1\n",
        "print('def_train_images: ', def_imgs)\n",
        "for i in os.listdir(path_train+'ok_front'):\n",
        "  ok_imgs+=1\n",
        "print('ok_train_images: ', ok_imgs)\n"
      ],
      "execution_count": null,
      "outputs": [
        {
          "output_type": "stream",
          "text": [
            "def_train_images:  6570\n",
            "ok_train_images:  4747\n"
          ],
          "name": "stdout"
        }
      ]
    },
    {
      "cell_type": "code",
      "metadata": {
        "colab": {
          "base_uri": "https://localhost:8080/"
        },
        "id": "82werpy8kLuI",
        "outputId": "8d490ffc-6723-4694-9e7f-6332029af9bd"
      },
      "source": [
        "path_test = '/content/drive/MyDrive/QI/casting_data/test/'\n",
        "def_imgs = 0\n",
        "ok_imgs=0\n",
        "for i in os.listdir(path_test+'def_front'):\n",
        "  def_imgs+=1\n",
        "print('def_test_images: ', def_imgs)\n",
        "for i in os.listdir(path_test+'ok_front'):\n",
        "  ok_imgs+=1\n",
        "print('ok_test_images: ', ok_imgs)"
      ],
      "execution_count": null,
      "outputs": [
        {
          "output_type": "stream",
          "text": [
            "def_test_images:  765\n",
            "ok_test_images:  467\n"
          ],
          "name": "stdout"
        }
      ]
    },
    {
      "cell_type": "code",
      "metadata": {
        "colab": {
          "base_uri": "https://localhost:8080/"
        },
        "id": "0xX6Z6yNlemn",
        "outputId": "1e963c00-8373-41a1-81ac-e4ad430b787b"
      },
      "source": [
        "# folders = ['ok_front', 'def_front']\n",
        "# test_data = {}\n",
        "# for i in folders:\n",
        "#   test_data[i] = []\n",
        "#   for file in os.listdir(path_test+i):\n",
        "#     test_data[i].append(file)\n",
        "# print(len(test_data['def_front']))\n",
        "# print(test_data['ok_front'])"
      ],
      "execution_count": null,
      "outputs": [
        {
          "output_type": "stream",
          "text": [
            "453\n",
            "['cast_ok_0_10.jpeg', 'cast_ok_0_1001.jpeg', 'cast_ok_0_1002.jpeg', 'cast_ok_0_1003.jpeg', 'cast_ok_0_1019.jpeg', 'cast_ok_0_1020.jpeg', 'cast_ok_0_1026.jpeg', 'cast_ok_0_1022.jpeg', 'cast_ok_0_1028.jpeg', 'cast_ok_0_1021.jpeg', 'cast_ok_0_1031.jpeg', 'cast_ok_0_1040.jpeg', 'cast_ok_0_1066.jpeg', 'cast_ok_0_1069.jpeg', 'cast_ok_0_1077.jpeg', 'cast_ok_0_1088.jpeg', 'cast_ok_0_1095.jpeg', 'cast_ok_0_1096.jpeg', 'cast_ok_0_1093.jpeg', 'cast_ok_0_1092.jpeg', 'cast_ok_0_1120.jpeg', 'cast_ok_0_1121.jpeg', 'cast_ok_0_1127.jpeg', 'cast_ok_0_1132.jpeg', 'cast_ok_0_1134.jpeg', 'cast_ok_0_1137.jpeg', 'cast_ok_0_1141.jpeg', 'cast_ok_0_1140.jpeg', 'cast_ok_0_1144.jpeg', 'cast_ok_0_1145.jpeg', 'cast_ok_0_1160.jpeg', 'cast_ok_0_1165.jpeg', 'cast_ok_0_1169.jpeg', 'cast_ok_0_1170.jpeg', 'cast_ok_0_1171.jpeg', 'cast_ok_0_1172.jpeg', 'cast_ok_0_1173.jpeg', 'cast_ok_0_1174.jpeg', 'cast_ok_0_1200.jpeg', 'cast_ok_0_1176.jpeg', 'cast_ok_0_1202.jpeg', 'cast_ok_0_1180.jpeg', 'cast_ok_0_1203.jpeg', 'cast_ok_0_1207.jpeg', 'cast_ok_0_1209.jpeg', 'cast_ok_0_1210.jpeg', 'cast_ok_0_1213.jpeg', 'cast_ok_0_1218.jpeg', 'cast_ok_0_1315.jpeg', 'cast_ok_0_1316.jpeg', 'cast_ok_0_1318.jpeg', 'cast_ok_0_1323.jpeg', 'cast_ok_0_1331.jpeg', 'cast_ok_0_1326.jpeg', 'cast_ok_0_1328.jpeg', 'cast_ok_0_1333.jpeg', 'cast_ok_0_1343.jpeg', 'cast_ok_0_1334.jpeg', 'cast_ok_0_1347.jpeg', 'cast_ok_0_1351.jpeg', 'cast_ok_0_1368.jpeg', 'cast_ok_0_1376.jpeg', 'cast_ok_0_1381.jpeg', 'cast_ok_0_1382.jpeg', 'cast_ok_0_1384.jpeg', 'cast_ok_0_1385.jpeg', 'cast_ok_0_14.jpeg', 'cast_ok_0_1415.jpeg', 'cast_ok_0_1420.jpeg', 'cast_ok_0_1421.jpeg', 'cast_ok_0_1426.jpeg', 'cast_ok_0_1430.jpeg', 'cast_ok_0_1431.jpeg', 'cast_ok_0_1438.jpeg', 'cast_ok_0_16.jpeg', 'cast_ok_0_1865.jpeg', 'cast_ok_0_1891.jpeg', 'cast_ok_0_1958.jpeg', 'cast_ok_0_1925.jpeg', 'cast_ok_0_2272.jpeg', 'cast_ok_0_2012.jpeg', 'cast_ok_0_2273.jpeg', 'cast_ok_0_2286.jpeg', 'cast_ok_0_2291.jpeg', 'cast_ok_0_2311.jpeg', 'cast_ok_0_2303.jpeg', 'cast_ok_0_2330.jpeg', 'cast_ok_0_2340.jpeg', 'cast_ok_0_235.jpeg', 'cast_ok_0_238.jpeg', 'cast_ok_0_239.jpeg', 'cast_ok_0_246.jpeg', 'cast_ok_0_259.jpeg', 'cast_ok_0_268.jpeg', 'cast_ok_0_2686.jpeg', 'cast_ok_0_2687.jpeg', 'cast_ok_0_2699.jpeg', 'cast_ok_0_2698.jpeg', 'cast_ok_0_2694.jpeg', 'cast_ok_0_2700.jpeg', 'cast_ok_0_2707.jpeg', 'cast_ok_0_2708.jpeg', 'cast_ok_0_2722.jpeg', 'cast_ok_0_2724.jpeg', 'cast_ok_0_2726.jpeg', 'cast_ok_0_2727.jpeg', 'cast_ok_0_2729.jpeg', 'cast_ok_0_2730.jpeg', 'cast_ok_0_2732.jpeg', 'cast_ok_0_2737.jpeg', 'cast_ok_0_2752.jpeg', 'cast_ok_0_2754.jpeg', 'cast_ok_0_2755.jpeg', 'cast_ok_0_2758.jpeg', 'cast_ok_0_2761.jpeg', 'cast_ok_0_2765.jpeg', 'cast_ok_0_2768.jpeg', 'cast_ok_0_2769.jpeg', 'cast_ok_0_2784.jpeg', 'cast_ok_0_2786.jpeg', 'cast_ok_0_2798.jpeg', 'cast_ok_0_2801.jpeg', 'cast_ok_0_2803.jpeg', 'cast_ok_0_2805.jpeg', 'cast_ok_0_2807.jpeg', 'cast_ok_0_2810.jpeg', 'cast_ok_0_2829.jpeg', 'cast_ok_0_2840.jpeg', 'cast_ok_0_2831.jpeg', 'cast_ok_0_2833.jpeg', 'cast_ok_0_2841.jpeg', 'cast_ok_0_2844.jpeg', 'cast_ok_0_2848.jpeg', 'cast_ok_0_2850.jpeg', 'cast_ok_0_2867.jpeg', 'cast_ok_0_2868.jpeg', 'cast_ok_0_2869.jpeg', 'cast_ok_0_2884.jpeg', 'cast_ok_0_2885.jpeg', 'cast_ok_0_2892.jpeg', 'cast_ok_0_2894.jpeg', 'cast_ok_0_2900.jpeg', 'cast_ok_0_2911.jpeg', 'cast_ok_0_2914.jpeg', 'cast_ok_0_2915.jpeg', 'cast_ok_0_2917.jpeg', 'cast_ok_0_2926.jpeg', 'cast_ok_0_2932.jpeg', 'cast_ok_0_2927.jpeg', 'cast_ok_0_2935.jpeg', 'cast_ok_0_31.jpeg', 'cast_ok_0_3264.jpeg', 'cast_ok_0_3278.jpeg', 'cast_ok_0_3292.jpeg', 'cast_ok_0_3294.jpeg', 'cast_ok_0_4475.jpeg', 'cast_ok_0_4476.jpeg', 'cast_ok_0_4497.jpeg', 'cast_ok_0_4498.jpeg', 'cast_ok_0_45.jpeg', 'cast_ok_0_49.jpeg', 'cast_ok_0_4987.jpeg', 'cast_ok_0_4992.jpeg', 'cast_ok_0_5012.jpeg', 'cast_ok_0_504.jpeg', 'cast_ok_0_505.jpeg', 'cast_ok_0_5009.jpeg', 'cast_ok_0_525.jpeg', 'cast_ok_0_526.jpeg', 'cast_ok_0_5530.jpeg', 'cast_ok_0_5533.jpeg', 'cast_ok_0_5541.jpeg', 'cast_ok_0_5560.jpeg', 'cast_ok_0_5567.jpeg', 'cast_ok_0_5587.jpeg', 'cast_ok_0_5590.jpeg', 'cast_ok_0_5605.jpeg', 'cast_ok_0_5606.jpeg', 'cast_ok_0_5805.jpeg', 'cast_ok_0_5809.jpeg', 'cast_ok_0_5815.jpeg', 'cast_ok_0_62.jpeg', 'cast_ok_0_6365.jpeg', 'cast_ok_0_6388.jpeg', 'cast_ok_0_64.jpeg', 'cast_ok_0_6401.jpeg', 'cast_ok_0_6681.jpeg', 'cast_ok_0_6682.jpeg', 'cast_ok_0_6714.jpeg', 'cast_ok_0_7044.jpeg', 'cast_ok_0_6718.jpeg', 'cast_ok_0_7559.jpeg', 'cast_ok_0_7089.jpeg', 'cast_ok_0_7560.jpeg', 'cast_ok_0_7588.jpeg', 'cast_ok_0_7595.jpeg', 'cast_ok_0_7624.jpeg', 'cast_ok_0_7611.jpeg', 'cast_ok_0_7820.jpeg', 'cast_ok_0_7631.jpeg', 'cast_ok_0_7632.jpeg', 'cast_ok_0_7839.jpeg', 'cast_ok_0_7823.jpeg', 'cast_ok_0_7849.jpeg', 'cast_ok_0_7900.jpeg', 'cast_ok_0_7901.jpeg', 'cast_ok_0_7931.jpeg', 'cast_ok_0_7925.jpeg', 'cast_ok_0_7936.jpeg', 'cast_ok_0_7939.jpeg', 'cast_ok_0_7945.jpeg', 'cast_ok_0_7946.jpeg', 'cast_ok_0_7997.jpeg', 'cast_ok_0_8008.jpeg', 'cast_ok_0_8010.jpeg', 'cast_ok_0_8172.jpeg', 'cast_ok_0_8011.jpeg', 'cast_ok_0_8177.jpeg', 'cast_ok_0_8189.jpeg', 'cast_ok_0_8192.jpeg', 'cast_ok_0_8611.jpeg', 'cast_ok_0_8612.jpeg', 'cast_ok_0_8614.jpeg', 'cast_ok_0_863.jpeg', 'cast_ok_0_8637.jpeg', 'cast_ok_0_864.jpeg', 'cast_ok_0_8644.jpeg', 'cast_ok_0_8652.jpeg', 'cast_ok_0_869.jpeg', 'cast_ok_0_880.jpeg', 'cast_ok_0_897.jpeg', 'cast_ok_0_903.jpeg', 'cast_ok_0_904.jpeg', 'cast_ok_0_907.jpeg', 'cast_ok_0_925.jpeg', 'cast_ok_0_927.jpeg', 'cast_ok_0_932.jpeg', 'cast_ok_0_935.jpeg', 'cast_ok_0_937.jpeg', 'cast_ok_0_942.jpeg', 'cast_ok_0_952.jpeg', 'cast_ok_0_960.jpeg', 'cast_ok_0_973.jpeg', 'cast_ok_0_975.jpeg', 'cast_ok_0_976.jpeg', 'cast_ok_0_9920.jpeg', 'cast_ok_0_989.jpeg', 'cast_ok_0_9918.jpeg', 'cast_ok_0_9925.jpeg', 'cast_ok_0_9926.jpeg', 'cast_ok_0_9928.jpeg', 'cast_ok_0_9934.jpeg', 'cast_ok_0_9943.jpeg', 'cast_ok_0_9955.jpeg', 'cast_ok_0_9967.jpeg', 'cast_ok_0_9961.jpeg', 'cast_ok_0_9973.jpeg', 'cast_ok_0_9975.jpeg', 'cast_ok_0_998.jpeg', 'cast_ok_0_9988.jpeg', 'cast_ok_0_9993.jpeg', 'cast_ok_0_9996.jpeg']\n"
          ],
          "name": "stdout"
        }
      ]
    },
    {
      "cell_type": "markdown",
      "metadata": {
        "id": "pPMBcGr7q9Qo"
      },
      "source": [
        "### Non-Augmented data"
      ]
    },
    {
      "cell_type": "code",
      "metadata": {
        "colab": {
          "base_uri": "https://localhost:8080/",
          "height": 35
        },
        "id": "mP4Ld2WucNR4",
        "outputId": "13959025-9abe-4a41-a52f-3b194ed2f70e"
      },
      "source": [
        "%pwd"
      ],
      "execution_count": null,
      "outputs": [
        {
          "output_type": "execute_result",
          "data": {
            "application/vnd.google.colaboratory.intrinsic+json": {
              "type": "string"
            },
            "text/plain": [
              "'/content/drive/MyDrive/QI/casting_data'"
            ]
          },
          "metadata": {
            "tags": []
          },
          "execution_count": 7
        }
      ]
    },
    {
      "cell_type": "code",
      "metadata": {
        "colab": {
          "base_uri": "https://localhost:8080/"
        },
        "id": "XbwKT37crA2T",
        "outputId": "940e28c1-a779-4930-ad9c-08d02ef0ac92"
      },
      "source": [
        "# path = '/content/drive/MyDrive/QI/casting_data/train/'\n",
        "# def_imgs = 0\n",
        "# ok_imgs=0\n",
        "# for i in os.listdir(path+'def_front'):\n",
        "#   def_imgs+=1\n",
        "# for i in os.listdir(path+'def_front_train'):\n",
        "#   def_imgs+=1\n",
        "# print('def_train_images: ', def_imgs)\n",
        "# for i in os.listdir(path+'ok_front'):\n",
        "#   ok_imgs+=1\n",
        "# for i in os.listdir(path+'ok_front_train'):\n",
        "#   ok_imgs+=1\n",
        "# print('ok_train_images: ', ok_imgs)"
      ],
      "execution_count": null,
      "outputs": [
        {
          "output_type": "stream",
          "text": [
            "def_train_images:  6570\n",
            "ok_train_images:  4747\n"
          ],
          "name": "stdout"
        }
      ]
    },
    {
      "cell_type": "markdown",
      "metadata": {
        "id": "L9KPLSQKrOgT"
      },
      "source": [
        "### Data conversion"
      ]
    },
    {
      "cell_type": "code",
      "metadata": {
        "colab": {
          "base_uri": "https://localhost:8080/"
        },
        "id": "TCk-bpQqxqMa",
        "outputId": "012570fd-b200-4d3f-b72e-8279c3ec5490"
      },
      "source": [
        "folders = ['ok_front', 'def_front']\n",
        "train_data = {}\n",
        "img_data_train = []\n",
        "img_train_target = []\n",
        "for i in folders:\n",
        "  train_data[i] = []\n",
        "  for j in os.listdir(path_train+i):\n",
        "    train_data[i].append(j)\n",
        "    img = cv2.imread(path_train+i+'/'+j,0)\n",
        "    img2 = cv2.resize(img,(100,100)).flatten()\n",
        "    img_data_train.append(img2)\n",
        "    img_train_target.append(i)\n",
        "  print('Compiled {} class'.format(i))\n",
        "print(len(train_data['def_front']))\n",
        "print(len(train_data['ok_front']))"
      ],
      "execution_count": null,
      "outputs": [
        {
          "output_type": "stream",
          "text": [
            "Compiled ok_front class\n",
            "Compiled def_front class\n",
            "6570\n",
            "4747\n"
          ],
          "name": "stdout"
        }
      ]
    },
    {
      "cell_type": "code",
      "metadata": {
        "colab": {
          "base_uri": "https://localhost:8080/"
        },
        "id": "DXzZAv1n0kTg",
        "outputId": "35119267-4ba2-4fec-ab4a-9b34013d3858"
      },
      "source": [
        "folders = ['ok_front', 'def_front']\n",
        "# folders=['test_ok']\n",
        "test_data = {}\n",
        "img_data_test = []\n",
        "img_test_target = []\n",
        "for i in folders:\n",
        "  test_data[i] = []\n",
        "  for j in os.listdir(path_test+i):\n",
        "    test_data[i].append(j)\n",
        "    # print(j.split('.')[0])\n",
        "    img = cv2.imread(path_test+i+'/'+j,0)\n",
        "    img2 = cv2.resize(img,(100,100), interpolation=cv2.INTER_AREA).flatten()\n",
        "    img_data_test.append(img2)\n",
        "    img_test_target.append(i)\n",
        "  print('Compiled {} class'.format(i))\n",
        "print(len(test_data['def_front']))\n",
        "print(len(test_data['ok_front']))\n"
      ],
      "execution_count": null,
      "outputs": [
        {
          "output_type": "stream",
          "text": [
            "Compiled ok_front class\n",
            "Compiled def_front class\n",
            "765\n",
            "467\n"
          ],
          "name": "stdout"
        }
      ]
    },
    {
      "cell_type": "code",
      "metadata": {
        "colab": {
          "base_uri": "https://localhost:8080/"
        },
        "id": "GNsALZW_4rfd",
        "outputId": "bce4392c-c385-47d8-eff1-a2bcc6bd21aa"
      },
      "source": [
        "# print(img_test_target)"
      ],
      "execution_count": null,
      "outputs": [
        {
          "output_type": "stream",
          "text": [
            "['ok_front', 'ok_front', 'ok_front', 'ok_front', 'ok_front', 'ok_front', 'ok_front', 'ok_front', 'ok_front', 'ok_front', 'ok_front', 'ok_front', 'ok_front', 'ok_front', 'ok_front', 'ok_front', 'ok_front', 'ok_front', 'ok_front', 'ok_front', 'ok_front', 'ok_front', 'ok_front', 'ok_front', 'ok_front', 'ok_front', 'ok_front', 'ok_front', 'ok_front', 'ok_front', 'ok_front', 'ok_front', 'ok_front', 'ok_front', 'ok_front', 'ok_front', 'ok_front', 'ok_front', 'ok_front', 'ok_front', 'ok_front', 'ok_front', 'ok_front', 'ok_front', 'ok_front', 'ok_front', 'ok_front', 'ok_front', 'ok_front', 'ok_front', 'ok_front', 'ok_front', 'ok_front', 'ok_front', 'ok_front', 'ok_front', 'ok_front', 'ok_front', 'ok_front', 'ok_front', 'ok_front', 'ok_front', 'ok_front', 'ok_front', 'ok_front', 'ok_front', 'ok_front', 'ok_front', 'ok_front', 'ok_front', 'ok_front', 'ok_front', 'ok_front', 'ok_front', 'ok_front', 'ok_front', 'ok_front', 'ok_front', 'ok_front', 'ok_front', 'ok_front', 'ok_front', 'ok_front', 'ok_front', 'ok_front', 'ok_front', 'ok_front', 'ok_front', 'ok_front', 'ok_front', 'ok_front', 'ok_front', 'ok_front', 'ok_front', 'ok_front', 'ok_front', 'ok_front', 'ok_front', 'ok_front', 'ok_front', 'ok_front', 'ok_front', 'ok_front', 'ok_front', 'ok_front', 'ok_front', 'ok_front', 'ok_front', 'ok_front', 'ok_front', 'ok_front', 'ok_front', 'ok_front', 'ok_front', 'ok_front', 'ok_front', 'ok_front', 'ok_front', 'ok_front', 'ok_front', 'ok_front', 'ok_front', 'ok_front', 'ok_front', 'ok_front', 'ok_front', 'ok_front', 'ok_front', 'ok_front', 'ok_front', 'ok_front', 'ok_front', 'ok_front', 'ok_front', 'ok_front', 'ok_front', 'ok_front', 'ok_front', 'ok_front', 'ok_front', 'ok_front', 'ok_front', 'ok_front', 'ok_front', 'ok_front', 'ok_front', 'ok_front', 'ok_front', 'ok_front', 'ok_front', 'ok_front', 'ok_front', 'ok_front', 'ok_front', 'ok_front', 'ok_front', 'ok_front', 'ok_front', 'ok_front', 'ok_front', 'ok_front', 'ok_front', 'ok_front', 'ok_front', 'ok_front', 'ok_front', 'ok_front', 'ok_front', 'ok_front', 'ok_front', 'ok_front', 'ok_front', 'ok_front', 'ok_front', 'ok_front', 'ok_front', 'ok_front', 'ok_front', 'ok_front', 'ok_front', 'ok_front', 'ok_front', 'ok_front', 'ok_front', 'ok_front', 'ok_front', 'ok_front', 'ok_front', 'ok_front', 'ok_front', 'ok_front', 'ok_front', 'ok_front', 'ok_front', 'ok_front', 'ok_front', 'ok_front', 'ok_front', 'ok_front', 'ok_front', 'ok_front', 'ok_front', 'ok_front', 'ok_front', 'ok_front', 'ok_front', 'ok_front', 'ok_front', 'ok_front', 'ok_front', 'ok_front', 'ok_front', 'ok_front', 'ok_front', 'ok_front', 'ok_front', 'ok_front', 'ok_front', 'ok_front', 'ok_front', 'ok_front', 'ok_front', 'ok_front', 'ok_front', 'ok_front', 'ok_front', 'ok_front', 'ok_front', 'ok_front', 'ok_front', 'ok_front', 'ok_front', 'ok_front', 'ok_front', 'ok_front', 'ok_front', 'ok_front', 'ok_front', 'ok_front', 'ok_front', 'ok_front', 'ok_front', 'ok_front', 'ok_front', 'ok_front', 'ok_front', 'ok_front', 'ok_front', 'ok_front', 'ok_front', 'ok_front', 'ok_front', 'ok_front', 'ok_front', 'ok_front', 'ok_front', 'ok_front', 'ok_front', 'ok_front', 'ok_front', 'ok_front', 'ok_front', 'def_front', 'def_front', 'def_front', 'def_front', 'def_front', 'def_front', 'def_front', 'def_front', 'def_front', 'def_front', 'def_front', 'def_front', 'def_front', 'def_front', 'def_front', 'def_front', 'def_front', 'def_front', 'def_front', 'def_front', 'def_front', 'def_front', 'def_front', 'def_front', 'def_front', 'def_front', 'def_front', 'def_front', 'def_front', 'def_front', 'def_front', 'def_front', 'def_front', 'def_front', 'def_front', 'def_front', 'def_front', 'def_front', 'def_front', 'def_front', 'def_front', 'def_front', 'def_front', 'def_front', 'def_front', 'def_front', 'def_front', 'def_front', 'def_front', 'def_front', 'def_front', 'def_front', 'def_front', 'def_front', 'def_front', 'def_front', 'def_front', 'def_front', 'def_front', 'def_front', 'def_front', 'def_front', 'def_front', 'def_front', 'def_front', 'def_front', 'def_front', 'def_front', 'def_front', 'def_front', 'def_front', 'def_front', 'def_front', 'def_front', 'def_front', 'def_front', 'def_front', 'def_front', 'def_front', 'def_front', 'def_front', 'def_front', 'def_front', 'def_front', 'def_front', 'def_front', 'def_front', 'def_front', 'def_front', 'def_front', 'def_front', 'def_front', 'def_front', 'def_front', 'def_front', 'def_front', 'def_front', 'def_front', 'def_front', 'def_front', 'def_front', 'def_front', 'def_front', 'def_front', 'def_front', 'def_front', 'def_front', 'def_front', 'def_front', 'def_front', 'def_front', 'def_front', 'def_front', 'def_front', 'def_front', 'def_front', 'def_front', 'def_front', 'def_front', 'def_front', 'def_front', 'def_front', 'def_front', 'def_front', 'def_front', 'def_front', 'def_front', 'def_front', 'def_front', 'def_front', 'def_front', 'def_front', 'def_front', 'def_front', 'def_front', 'def_front', 'def_front', 'def_front', 'def_front', 'def_front', 'def_front', 'def_front', 'def_front', 'def_front', 'def_front', 'def_front', 'def_front', 'def_front', 'def_front', 'def_front', 'def_front', 'def_front', 'def_front', 'def_front', 'def_front', 'def_front', 'def_front', 'def_front', 'def_front', 'def_front', 'def_front', 'def_front', 'def_front', 'def_front', 'def_front', 'def_front', 'def_front', 'def_front', 'def_front', 'def_front', 'def_front', 'def_front', 'def_front', 'def_front', 'def_front', 'def_front', 'def_front', 'def_front', 'def_front', 'def_front', 'def_front', 'def_front', 'def_front', 'def_front', 'def_front', 'def_front', 'def_front', 'def_front', 'def_front', 'def_front', 'def_front', 'def_front', 'def_front', 'def_front', 'def_front', 'def_front', 'def_front', 'def_front', 'def_front', 'def_front', 'def_front', 'def_front', 'def_front', 'def_front', 'def_front', 'def_front', 'def_front', 'def_front', 'def_front', 'def_front', 'def_front', 'def_front', 'def_front', 'def_front', 'def_front', 'def_front', 'def_front', 'def_front', 'def_front', 'def_front', 'def_front', 'def_front', 'def_front', 'def_front', 'def_front', 'def_front', 'def_front', 'def_front', 'def_front', 'def_front', 'def_front', 'def_front', 'def_front', 'def_front', 'def_front', 'def_front', 'def_front', 'def_front', 'def_front', 'def_front', 'def_front', 'def_front', 'def_front', 'def_front', 'def_front', 'def_front', 'def_front', 'def_front', 'def_front', 'def_front', 'def_front', 'def_front', 'def_front', 'def_front', 'def_front', 'def_front', 'def_front', 'def_front', 'def_front', 'def_front', 'def_front', 'def_front', 'def_front', 'def_front', 'def_front', 'def_front', 'def_front', 'def_front', 'def_front', 'def_front', 'def_front', 'def_front', 'def_front', 'def_front', 'def_front', 'def_front', 'def_front', 'def_front', 'def_front', 'def_front', 'def_front', 'def_front', 'def_front', 'def_front', 'def_front', 'def_front', 'def_front', 'def_front', 'def_front', 'def_front', 'def_front', 'def_front', 'def_front', 'def_front', 'def_front', 'def_front', 'def_front', 'def_front', 'def_front', 'def_front', 'def_front', 'def_front', 'def_front', 'def_front', 'def_front', 'def_front', 'def_front', 'def_front', 'def_front', 'def_front', 'def_front', 'def_front', 'def_front', 'def_front', 'def_front', 'def_front', 'def_front', 'def_front', 'def_front', 'def_front', 'def_front', 'def_front', 'def_front', 'def_front', 'def_front', 'def_front', 'def_front', 'def_front', 'def_front', 'def_front', 'def_front', 'def_front', 'def_front', 'def_front', 'def_front', 'def_front', 'def_front', 'def_front', 'def_front', 'def_front', 'def_front', 'def_front', 'def_front', 'def_front', 'def_front', 'def_front', 'def_front', 'def_front', 'def_front', 'def_front', 'def_front', 'def_front', 'def_front', 'def_front', 'def_front', 'def_front', 'def_front', 'def_front', 'def_front', 'def_front', 'def_front', 'def_front', 'def_front', 'def_front', 'def_front', 'def_front', 'def_front', 'def_front', 'def_front', 'def_front', 'def_front', 'def_front', 'def_front', 'def_front', 'def_front', 'def_front', 'def_front', 'def_front', 'def_front', 'def_front', 'def_front', 'def_front', 'def_front', 'def_front', 'def_front', 'def_front', 'def_front', 'def_front', 'def_front', 'def_front', 'def_front', 'def_front', 'def_front', 'def_front', 'def_front', 'def_front', 'def_front', 'def_front', 'def_front', 'def_front', 'def_front', 'def_front', 'def_front', 'def_front', 'def_front', 'def_front', 'def_front', 'def_front', 'def_front', 'def_front', 'def_front', 'def_front', 'def_front', 'def_front', 'def_front', 'def_front', 'def_front', 'def_front', 'def_front', 'def_front', 'def_front', 'def_front', 'def_front', 'def_front', 'def_front', 'def_front', 'def_front', 'def_front', 'def_front', 'def_front', 'def_front', 'def_front', 'def_front', 'def_front', 'def_front', 'def_front', 'def_front', 'def_front', 'def_front', 'def_front', 'def_front', 'def_front', 'def_front', 'def_front', 'def_front', 'def_front', 'def_front', 'def_front', 'def_front', 'def_front', 'def_front', 'def_front', 'def_front', 'test_def', 'test_def', 'test_def', 'test_def', 'test_def', 'test_def', 'test_def', 'test_def', 'test_def', 'test_def', 'test_def', 'test_def', 'test_def', 'test_def', 'test_def', 'test_def', 'test_def', 'test_def', 'test_def', 'test_def', 'test_def', 'test_def', 'test_def', 'test_def', 'test_def', 'test_def', 'test_def', 'test_def', 'test_def', 'test_def', 'test_def', 'test_def', 'test_def', 'test_def', 'test_def', 'test_def', 'test_def', 'test_def', 'test_def', 'test_def', 'test_def', 'test_def', 'test_def', 'test_def', 'test_def', 'test_def', 'test_def', 'test_def', 'test_def', 'test_def', 'test_def', 'test_def', 'test_def', 'test_def', 'test_def', 'test_def', 'test_def', 'test_def', 'test_def', 'test_def', 'test_def', 'test_def', 'test_def', 'test_def', 'test_def', 'test_def', 'test_def', 'test_def', 'test_def', 'test_def', 'test_def', 'test_def', 'test_def', 'test_def', 'test_def', 'test_def', 'test_def', 'test_def', 'test_def', 'test_def', 'test_def', 'test_def', 'test_def', 'test_def', 'test_def', 'test_def', 'test_def', 'test_def', 'test_def', 'test_def', 'test_def', 'test_def', 'test_def', 'test_def', 'test_def', 'test_def', 'test_def', 'test_def', 'test_def', 'test_def', 'test_def', 'test_def', 'test_def', 'test_def', 'test_def', 'test_def', 'test_def', 'test_def', 'test_def', 'test_def', 'test_def', 'test_def', 'test_def', 'test_def', 'test_def', 'test_def', 'test_def', 'test_def', 'test_def', 'test_def', 'test_def', 'test_def', 'test_def', 'test_def', 'test_def', 'test_def', 'test_def', 'test_def', 'test_def', 'test_def', 'test_def', 'test_def', 'test_def', 'test_def', 'test_def', 'test_def', 'test_def', 'test_def', 'test_def', 'test_def', 'test_def', 'test_def', 'test_def', 'test_def', 'test_def', 'test_def', 'test_def', 'test_def', 'test_def', 'test_def', 'test_def', 'test_def', 'test_def', 'test_def', 'test_def', 'test_def', 'test_def', 'test_def', 'test_def', 'test_def', 'test_def', 'test_def', 'test_def', 'test_def', 'test_def', 'test_def', 'test_def', 'test_def', 'test_def', 'test_def', 'test_def', 'test_def', 'test_def', 'test_def', 'test_def', 'test_def', 'test_def', 'test_def', 'test_def', 'test_def', 'test_def', 'test_def', 'test_def', 'test_def', 'test_def', 'test_def', 'test_def', 'test_def', 'test_def', 'test_def', 'test_def', 'test_def', 'test_def', 'test_def', 'test_def', 'test_def', 'test_def', 'test_def', 'test_def', 'test_def', 'test_def', 'test_def', 'test_def', 'test_def', 'test_def', 'test_def', 'test_def', 'test_def', 'test_def', 'test_def', 'test_def', 'test_def', 'test_def', 'test_def', 'test_def', 'test_def', 'test_def', 'test_def', 'test_def', 'test_def', 'test_def', 'test_def', 'test_def', 'test_def', 'test_def', 'test_def', 'test_def', 'test_def', 'test_def', 'test_def', 'test_def', 'test_def', 'test_def', 'test_def', 'test_def', 'test_def', 'test_def', 'test_def', 'test_def', 'test_def', 'test_def', 'test_def', 'test_def', 'test_def', 'test_def', 'test_def', 'test_def', 'test_def', 'test_def', 'test_def', 'test_def', 'test_def', 'test_def', 'test_def', 'test_def', 'test_def', 'test_def', 'test_def', 'test_def', 'test_def', 'test_def', 'test_def', 'test_def', 'test_def', 'test_def', 'test_def', 'test_def', 'test_def', 'test_def', 'test_def', 'test_def', 'test_def', 'test_def', 'test_def', 'test_def', 'test_def', 'test_def', 'test_def', 'test_def', 'test_def', 'test_def', 'test_def', 'test_def', 'test_def', 'test_def', 'test_def', 'test_def', 'test_def', 'test_def', 'test_def', 'test_def', 'test_def', 'test_def', 'test_def', 'test_def', 'test_def', 'test_def', 'test_def', 'test_def', 'test_def', 'test_def', 'test_def', 'test_def', 'test_def', 'test_def', 'test_def', 'test_def', 'test_def', 'test_def', 'test_def', 'test_def', 'test_def', 'test_ok', 'test_ok', 'test_ok', 'test_ok', 'test_ok', 'test_ok', 'test_ok', 'test_ok', 'test_ok', 'test_ok', 'test_ok', 'test_ok', 'test_ok', 'test_ok', 'test_ok', 'test_ok', 'test_ok', 'test_ok', 'test_ok', 'test_ok', 'test_ok', 'test_ok', 'test_ok', 'test_ok', 'test_ok', 'test_ok', 'test_ok', 'test_ok', 'test_ok', 'test_ok', 'test_ok', 'test_ok', 'test_ok', 'test_ok', 'test_ok', 'test_ok', 'test_ok', 'test_ok', 'test_ok', 'test_ok', 'test_ok', 'test_ok', 'test_ok', 'test_ok', 'test_ok', 'test_ok', 'test_ok', 'test_ok', 'test_ok', 'test_ok', 'test_ok', 'test_ok', 'test_ok', 'test_ok', 'test_ok', 'test_ok', 'test_ok', 'test_ok', 'test_ok', 'test_ok', 'test_ok', 'test_ok', 'test_ok', 'test_ok', 'test_ok', 'test_ok', 'test_ok', 'test_ok', 'test_ok', 'test_ok', 'test_ok', 'test_ok', 'test_ok', 'test_ok', 'test_ok', 'test_ok', 'test_ok', 'test_ok', 'test_ok', 'test_ok', 'test_ok', 'test_ok', 'test_ok', 'test_ok', 'test_ok', 'test_ok', 'test_ok', 'test_ok', 'test_ok', 'test_ok', 'test_ok', 'test_ok', 'test_ok', 'test_ok', 'test_ok', 'test_ok', 'test_ok', 'test_ok', 'test_ok', 'test_ok', 'test_ok', 'test_ok', 'test_ok', 'test_ok', 'test_ok', 'test_ok', 'test_ok', 'test_ok', 'test_ok', 'test_ok', 'test_ok', 'test_ok', 'test_ok', 'test_ok', 'test_ok', 'test_ok', 'test_ok', 'test_ok', 'test_ok', 'test_ok', 'test_ok', 'test_ok', 'test_ok', 'test_ok', 'test_ok', 'test_ok', 'test_ok', 'test_ok', 'test_ok', 'test_ok', 'test_ok', 'test_ok', 'test_ok', 'test_ok', 'test_ok', 'test_ok', 'test_ok', 'test_ok', 'test_ok', 'test_ok', 'test_ok', 'test_ok', 'test_ok', 'test_ok', 'test_ok', 'test_ok', 'test_ok', 'test_ok', 'test_ok', 'test_ok', 'test_ok', 'test_ok', 'test_ok', 'test_ok', 'test_ok', 'test_ok', 'test_ok', 'test_ok', 'test_ok', 'test_ok', 'test_ok', 'test_ok', 'test_ok', 'test_ok', 'test_ok', 'test_ok', 'test_ok', 'test_ok', 'test_ok', 'test_ok', 'test_ok', 'test_ok', 'test_ok', 'test_ok', 'test_ok', 'test_ok', 'test_ok', 'test_ok', 'test_ok', 'test_ok', 'test_ok', 'test_ok', 'test_ok', 'test_ok', 'test_ok', 'test_ok', 'test_ok', 'test_ok', 'test_ok', 'test_ok', 'test_ok', 'test_ok', 'test_ok', 'test_ok', 'test_ok', 'test_ok', 'test_ok', 'test_ok', 'test_ok', 'test_ok', 'test_ok', 'test_ok', 'test_ok', 'test_ok']\n"
          ],
          "name": "stdout"
        }
      ]
    },
    {
      "cell_type": "code",
      "metadata": {
        "colab": {
          "base_uri": "https://localhost:8080/"
        },
        "id": "y0CMPW1o1QqA",
        "outputId": "69cb0494-827f-4d82-df8d-3bf30d297bae"
      },
      "source": [
        "img_data_train_array = np.array(img_data_train)\n",
        "img_data_test_array = np.array(img_data_test)\n",
        "print('Train size: ', img_data_train_array.shape)\n",
        "print('Test size: ', img_data_test_array.shape)"
      ],
      "execution_count": null,
      "outputs": [
        {
          "output_type": "stream",
          "text": [
            "Train size:  (11317, 10000)\n",
            "Test size:  (1232, 10000)\n"
          ],
          "name": "stdout"
        }
      ]
    },
    {
      "cell_type": "markdown",
      "metadata": {
        "id": "lZ-I7zNKxvMq"
      },
      "source": [
        "###Logistic Regression begins! "
      ]
    },
    {
      "cell_type": "code",
      "metadata": {
        "id": "0hr9JLzLbwkO"
      },
      "source": [
        ""
      ],
      "execution_count": null,
      "outputs": []
    },
    {
      "cell_type": "code",
      "metadata": {
        "colab": {
          "base_uri": "https://localhost:8080/"
        },
        "id": "dcFLfvqqxXZu",
        "outputId": "90a91e80-91f4-4b09-edd9-dda9fb8e3308"
      },
      "source": [
        "label = LabelEncoder()\n",
        "label.fit(img_train_target)"
      ],
      "execution_count": null,
      "outputs": [
        {
          "output_type": "execute_result",
          "data": {
            "text/plain": [
              "LabelEncoder()"
            ]
          },
          "metadata": {
            "tags": []
          },
          "execution_count": 11
        }
      ]
    },
    {
      "cell_type": "code",
      "metadata": {
        "id": "eATnWyTC3RtO"
      },
      "source": [
        "# normalizing the data\n",
        "train_data = img_data_train_array/255.0\n",
        "test_data = img_data_test_array/255.0\n",
        "\n",
        "#fitting labels\n",
        "train_labels = label.transform(img_train_target)\n",
        "test_labels = label.transform(img_test_target)"
      ],
      "execution_count": null,
      "outputs": []
    },
    {
      "cell_type": "code",
      "metadata": {
        "id": "UirdNXvGtayT",
        "colab": {
          "base_uri": "https://localhost:8080/"
        },
        "outputId": "4063e98d-10e6-4106-9f75-9bc437cd2d24"
      },
      "source": [
        "# %cd '/content/drive/MyDrive/QI/'\n",
        "%ls\n",
        "datafile = '/content/drive/MyDrive/QI/train_compiled.npz'\n",
        "np.savez(datafile,x_data=train_data, y_data=train_labels)"
      ],
      "execution_count": null,
      "outputs": [
        {
          "output_type": "stream",
          "text": [
            "archive.zip       \u001b[0m\u001b[01;34mcasting_data\u001b[0m/  pca.png            test.npz\n",
            "\u001b[01;34mcasting_512x512\u001b[0m/  k-means.png    test_compiled.npz  train.npz\n"
          ],
          "name": "stdout"
        }
      ]
    },
    {
      "cell_type": "code",
      "metadata": {
        "colab": {
          "base_uri": "https://localhost:8080/"
        },
        "id": "HGGaud-2u0si",
        "outputId": "d7a43691-e3be-40c1-f6ee-53c7809a5d39"
      },
      "source": [
        "%ls"
      ],
      "execution_count": null,
      "outputs": [
        {
          "output_type": "stream",
          "text": [
            "archive.zip       k-means.png        test.npz\n",
            "\u001b[0m\u001b[01;34mcasting_512x512\u001b[0m/  pca.png            train_compiled.npz\n",
            "\u001b[01;34mcasting_data\u001b[0m/     test_compiled.npz  train.npz\n"
          ],
          "name": "stdout"
        }
      ]
    },
    {
      "cell_type": "code",
      "metadata": {
        "id": "O2VkUzeQ_aqS"
      },
      "source": [
        "datafile2 = '/content/drive/MyDrive/QI/test_compiled.npz'\n",
        "np.savez(datafile2,x_data=test_data, y_data=test_labels)"
      ],
      "execution_count": null,
      "outputs": []
    },
    {
      "cell_type": "code",
      "metadata": {
        "id": "uB3ODGQnuClF"
      },
      "source": [
        "# #split the train set into train and val set\n",
        "# from sklearn.model_selection import train_test_split\n",
        "# train_data, x_val, train_labels, y_val = train_test_split(train_data, train_labels,stratify=train_data,test_size=0.2,random_state=100)\n",
        "                                                    \n",
        "# # save the data with numpy so we can use it later\n",
        "# datafile = '/content/drive/MyDrive/QI/train_val_test_data.npz'\n",
        "# np.savez(datafile,\n",
        "#          x_train=train_data, x_test=test_data, x_val=x_val,\n",
        "#          y_train=train_labels, y_test=test_labels,y_val=y_val)"
      ],
      "execution_count": null,
      "outputs": []
    },
    {
      "cell_type": "code",
      "metadata": {
        "id": "zehEUaXE5iwk"
      },
      "source": [
        "# model = LogisticRegression(solver='lbfgs', max_iter=1000)\n",
        "# model.fit(train_data,train_labels)\n",
        "# pred = model.predict(test_data)\n",
        "# print('Accuracy: ', accuracy_score(test_labels,pred))"
      ],
      "execution_count": null,
      "outputs": []
    },
    {
      "cell_type": "code",
      "metadata": {
        "id": "ek8B07AT8uJq"
      },
      "source": [
        "model = LogisticRegression(solver='lbfgs', max_iter=10000)\n",
        "model.fit(train_data,train_labels)\n",
        "pred = model.predict(test_data)"
      ],
      "execution_count": null,
      "outputs": []
    },
    {
      "cell_type": "code",
      "metadata": {
        "id": "oy1DUGsy9M9x",
        "colab": {
          "base_uri": "https://localhost:8080/"
        },
        "outputId": "3690ab43-415a-4117-864f-6a842998ad2f"
      },
      "source": [
        "from sklearn.metrics import f1_score, precision_score, recall_score, accuracy_score, confusion_matrix, roc_auc_score\n",
        "print('Accuracy: ', accuracy_score(test_labels,pred))\n",
        "print('Precision: ', precision_score(test_labels,pred))\n",
        "print('Recall: ', recall_score(test_labels,pred))\n",
        "print('F1 Score: ', f1_score(test_labels,pred))\n",
        "print('Area under the curve: ', roc_auc_score(test_labels,pred))"
      ],
      "execution_count": null,
      "outputs": [
        {
          "output_type": "stream",
          "text": [
            "Accuracy:  0.849025974025974\n",
            "Precision:  0.8101545253863135\n",
            "Recall:  0.7858672376873662\n",
            "F1 Score:  0.7978260869565218\n",
            "Area under the curve:  0.8367244685168856\n"
          ],
          "name": "stdout"
        }
      ]
    },
    {
      "cell_type": "code",
      "metadata": {
        "id": "inKbNGlGFgsu",
        "colab": {
          "base_uri": "https://localhost:8080/"
        },
        "outputId": "c874f62f-0835-4a68-b573-d5677808e430"
      },
      "source": [
        "tn, fp, fn, tp = confusion_matrix(test_labels,pred).ravel()\n",
        "\n",
        "print(\"true negative\", tn)\n",
        "print(\"false positive\", fp)\n",
        "print(\"false negative\", fn)\n",
        "print(\"true positive\", tp)\n",
        "specificity = tn / (tn+fp)\n",
        "print(\"specificity is {}\".format(specificity))"
      ],
      "execution_count": null,
      "outputs": [
        {
          "output_type": "stream",
          "text": [
            "true negative 679\n",
            "false positive 86\n",
            "false negative 100\n",
            "true positive 367\n",
            "specificity is 0.8875816993464052\n"
          ],
          "name": "stdout"
        }
      ]
    }
  ]
}