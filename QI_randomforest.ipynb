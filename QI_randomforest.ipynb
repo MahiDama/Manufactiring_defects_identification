{
  "nbformat": 4,
  "nbformat_minor": 0,
  "metadata": {
    "colab": {
      "name": "QI_randomforest.ipynb",
      "provenance": []
    },
    "kernelspec": {
      "name": "python3",
      "display_name": "Python 3"
    },
    "language_info": {
      "name": "python"
    }
  },
  "cells": [
    {
      "cell_type": "code",
      "metadata": {
        "colab": {
          "base_uri": "https://localhost:8080/"
        },
        "id": "bq-qzmWIF6fg",
        "outputId": "48c9ac1d-fcfd-4117-d83c-4a464dc78716"
      },
      "source": [
        "from google.colab import drive\n",
        "drive.mount('/content/drive/', force_remount=True)"
      ],
      "execution_count": null,
      "outputs": [
        {
          "output_type": "stream",
          "text": [
            "Mounted at /content/drive/\n"
          ],
          "name": "stdout"
        }
      ]
    },
    {
      "cell_type": "code",
      "metadata": {
        "id": "EpjJ68X1GIdl"
      },
      "source": [
        "import pandas as pd\n",
        "import numpy as np \n",
        "import matplotlib.pyplot as plt \n",
        "import cv2 \n",
        "import time \n",
        "import os "
      ],
      "execution_count": null,
      "outputs": []
    },
    {
      "cell_type": "code",
      "metadata": {
        "id": "R7Ttej-cF3-r"
      },
      "source": [
        "from sklearn.ensemble import RandomForestClassifier\n",
        "from sklearn.preprocessing import LabelEncoder \n",
        "from sklearn.metrics import accuracy_score, f1_score, recall_score, precision_score, confusion_matrix, roc_auc_score"
      ],
      "execution_count": null,
      "outputs": []
    },
    {
      "cell_type": "code",
      "metadata": {
        "colab": {
          "base_uri": "https://localhost:8080/"
        },
        "id": "QrpGqYsiGMD4",
        "outputId": "5a1430ef-d8a8-483b-8043-db6dc3db8077"
      },
      "source": [
        "# load the npz file\n",
        "data_path = '/content/drive/MyDrive/QI/train_compiled.npz'\n",
        "train_data   = np.load(data_path, mmap_mode='r')\n",
        "for k in train_data.files:\n",
        "  print(k)"
      ],
      "execution_count": null,
      "outputs": [
        {
          "output_type": "stream",
          "text": [
            "x_data\n",
            "y_data\n"
          ],
          "name": "stdout"
        }
      ]
    },
    {
      "cell_type": "code",
      "metadata": {
        "id": "-zfDD_-RGNlg"
      },
      "source": [
        "x_data_train = train_data['x_data']\n",
        "y_data_train = train_data['y_data']"
      ],
      "execution_count": null,
      "outputs": []
    },
    {
      "cell_type": "code",
      "metadata": {
        "colab": {
          "base_uri": "https://localhost:8080/"
        },
        "id": "VUhEZ68YGPm5",
        "outputId": "407fa5b0-a804-4eac-b8f0-3b43c8c3c3db"
      },
      "source": [
        "# load the npz file\n",
        "data_path_test = '/content/drive/MyDrive/QI/test_compiled.npz'\n",
        "test_data   = np.load(data_path_test, mmap_mode='r')\n",
        "for k in test_data.files:\n",
        "  print(k)"
      ],
      "execution_count": null,
      "outputs": [
        {
          "output_type": "stream",
          "text": [
            "x_data\n",
            "y_data\n"
          ],
          "name": "stdout"
        }
      ]
    },
    {
      "cell_type": "code",
      "metadata": {
        "id": "FE0dgoQsGRTA"
      },
      "source": [
        "x_data_test = test_data['x_data']\n",
        "y_data_test = test_data['y_data']"
      ],
      "execution_count": null,
      "outputs": []
    },
    {
      "cell_type": "code",
      "metadata": {
        "id": "hKvVMqciGTVD"
      },
      "source": [
        "model = RandomForestClassifier(n_estimators=1000)\n",
        "model.fit(x_data_train, y_data_train)\n",
        "pred = model.predict(x_data_test)"
      ],
      "execution_count": null,
      "outputs": []
    },
    {
      "cell_type": "code",
      "metadata": {
        "colab": {
          "base_uri": "https://localhost:8080/"
        },
        "id": "j7q0K83CGWEt",
        "outputId": "83cdecdc-a263-4bca-9961-aca8d7d53a99"
      },
      "source": [
        "print('Accuracy: ', accuracy_score(y_data_test,pred))\n",
        "print('Precision: ', precision_score(y_data_test,pred))\n",
        "print('Recall: ', recall_score(y_data_test,pred))\n",
        "print('F1 Score: ', f1_score(y_data_test,pred))\n",
        "print('Area under the curve: ', roc_auc_score(y_data_test,pred))"
      ],
      "execution_count": null,
      "outputs": [
        {
          "output_type": "stream",
          "text": [
            "Accuracy:  0.9756493506493507\n",
            "Precision:  0.9678800856531049\n",
            "Recall:  0.9678800856531049\n",
            "F1 Score:  0.9678800856531049\n",
            "Area under the curve:  0.974136121257925\n"
          ],
          "name": "stdout"
        }
      ]
    },
    {
      "cell_type": "code",
      "metadata": {
        "colab": {
          "base_uri": "https://localhost:8080/"
        },
        "id": "aPM52UwyGYDP",
        "outputId": "63e23b7f-17e9-450e-c054-ca30a2dcd618"
      },
      "source": [
        "tn, fp, fn, tp = confusion_matrix(y_data_test,pred).ravel()\n",
        "\n",
        "print(\"true negative\", tn)\n",
        "print(\"false positive\", fp)\n",
        "print(\"false negative\", fn)\n",
        "print(\"true positive\", tp)\n",
        "specificity = tn / (tn+fp)\n",
        "print(\"specificity is {}\".format(specificity))"
      ],
      "execution_count": null,
      "outputs": [
        {
          "output_type": "stream",
          "text": [
            "true negative 750\n",
            "false positive 15\n",
            "false negative 15\n",
            "true positive 452\n",
            "specificity is 0.9803921568627451\n"
          ],
          "name": "stdout"
        }
      ]
    },
    {
      "cell_type": "code",
      "metadata": {
        "colab": {
          "base_uri": "https://localhost:8080/",
          "height": 296
        },
        "id": "FHML_vPIGZk8",
        "outputId": "b4f1299c-3fdb-49e9-8730-7e0f9fb04c17"
      },
      "source": [
        "from sklearn.metrics import plot_roc_curve, plot_confusion_matrix, plot_precision_recall_curve\n",
        "plot_roc_curve(model, x_data_test, y_data_test)"
      ],
      "execution_count": null,
      "outputs": [
        {
          "output_type": "execute_result",
          "data": {
            "text/plain": [
              "<sklearn.metrics._plot.roc_curve.RocCurveDisplay at 0x7fae53408910>"
            ]
          },
          "metadata": {
            "tags": []
          },
          "execution_count": 14
        },
        {
          "output_type": "display_data",
          "data": {
            "image/png": "[encoded data removed]",
            "text/plain": [
              "<Figure size 432x288 with 1 Axes>"
            ]
          },
          "metadata": {
            "tags": [],
            "needs_background": "light"
          }
        }
      ]
    },
    {
      "cell_type": "code",
      "metadata": {
        "colab": {
          "base_uri": "https://localhost:8080/",
          "height": 296
        },
        "id": "sq2jF8WbL98C",
        "outputId": "9eb020c8-d172-4f13-cd90-cd85aee50e35"
      },
      "source": [
        "plot_confusion_matrix(model, x_data_test, y_data_test, cmap='PuBu')"
      ],
      "execution_count": null,
      "outputs": [
        {
          "output_type": "execute_result",
          "data": {
            "text/plain": [
              "<sklearn.metrics._plot.confusion_matrix.ConfusionMatrixDisplay at 0x7fae52e2bf50>"
            ]
          },
          "metadata": {
            "tags": []
          },
          "execution_count": 15
        },
        {
          "output_type": "display_data",
          "data": {
            "image/png": "[encoded data removed]",
            "text/plain": [
              "<Figure size 432x288 with 2 Axes>"
            ]
          },
          "metadata": {
            "tags": [],
            "needs_background": "light"
          }
        }
      ]
    },
    {
      "cell_type": "code",
      "metadata": {
        "id": "VXiBm_GML_wy",
        "colab": {
          "base_uri": "https://localhost:8080/",
          "height": 296
        },
        "outputId": "9ccd44b8-eb12-4a8c-80c7-4e2f6786d92a"
      },
      "source": [
        "plot_precision_recall_curve(model, x_data_test, y_data_test)"
      ],
      "execution_count": null,
      "outputs": [
        {
          "output_type": "execute_result",
          "data": {
            "text/plain": [
              "<sklearn.metrics._plot.precision_recall_curve.PrecisionRecallDisplay at 0x7fae5349ba10>"
            ]
          },
          "metadata": {
            "tags": []
          },
          "execution_count": 16
        },
        {
          "output_type": "display_data",
          "data": {
            "image/png": "[encoded data removed]",
            "text/plain": [
              "<Figure size 432x288 with 1 Axes>"
            ]
          },
          "metadata": {
            "tags": [],
            "needs_background": "light"
          }
        }
      ]
    },
    {
      "cell_type": "code",
      "metadata": {
        "id": "6Zq1GKhqMBeS"
      },
      "source": [
        ""
      ],
      "execution_count": null,
      "outputs": []
    }
  ]
}