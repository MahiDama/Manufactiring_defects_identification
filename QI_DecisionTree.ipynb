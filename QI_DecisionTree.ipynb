{
  "nbformat": 4,
  "nbformat_minor": 0,
  "metadata": {
    "colab": {
      "name": "QI_DecisionTree.ipynb",
      "provenance": [],
      "collapsed_sections": []
    },
    "kernelspec": {
      "name": "python3",
      "display_name": "Python 3"
    },
    "language_info": {
      "name": "python"
    }
  },
  "cells": [
    {
      "cell_type": "code",
      "metadata": {
        "id": "YK6cCOI4dS33",
        "colab": {
          "base_uri": "https://localhost:8080/"
        },
        "outputId": "3feb8229-71c0-41ec-8b11-012cfed73f92"
      },
      "source": [
        "from google.colab import drive\n",
        "drive.mount('/content/drive/', force_remount=True)"
      ],
      "execution_count": null,
      "outputs": [
        {
          "output_type": "stream",
          "text": [
            "Mounted at /content/drive/\n"
          ],
          "name": "stdout"
        }
      ]
    },
    {
      "cell_type": "code",
      "metadata": {
        "id": "Mkb-JbhnnxtZ"
      },
      "source": [
        "import pandas as pd\n",
        "import numpy as np \n",
        "import matplotlib.pyplot as plt \n",
        "import cv2 \n",
        "import time \n",
        "import os "
      ],
      "execution_count": null,
      "outputs": []
    },
    {
      "cell_type": "code",
      "metadata": {
        "id": "URm_fJNCn5I4"
      },
      "source": [
        "from sklearn.tree import DecisionTreeClassifier\n",
        "from sklearn.preprocessing import LabelEncoder \n",
        "from sklearn.metrics import accuracy_score, f1_score, recall_score, precision_score, confusion_matrix, roc_auc_score"
      ],
      "execution_count": null,
      "outputs": []
    },
    {
      "cell_type": "code",
      "metadata": {
        "id": "ItRrsChbn9ua",
        "colab": {
          "base_uri": "https://localhost:8080/"
        },
        "outputId": "56f1c591-6ac6-4d36-f39b-57c7b38aab90"
      },
      "source": [
        "# load the npz file\n",
        "data_path = '/content/drive/MyDrive/QI/train_compiled.npz'\n",
        "train_data   = np.load(data_path, mmap_mode='r')\n",
        "for k in train_data.files:\n",
        "  print(k)"
      ],
      "execution_count": null,
      "outputs": [
        {
          "output_type": "stream",
          "text": [
            "x_data\n",
            "y_data\n"
          ],
          "name": "stdout"
        }
      ]
    },
    {
      "cell_type": "code",
      "metadata": {
        "id": "dkNXHBnCn_1E"
      },
      "source": [
        "x_data_train = train_data['x_data']\n",
        "y_data_train = train_data['y_data']"
      ],
      "execution_count": null,
      "outputs": []
    },
    {
      "cell_type": "code",
      "metadata": {
        "colab": {
          "base_uri": "https://localhost:8080/"
        },
        "id": "IPoJcx2FoBd6",
        "outputId": "de1b6d9c-8f27-4b45-c6ac-09ae21cec85a"
      },
      "source": [
        "# load the npz file\n",
        "data_path_test = '/content/drive/MyDrive/QI/test_compiled.npz'\n",
        "test_data   = np.load(data_path_test, mmap_mode='r')\n",
        "for k in test_data.files:\n",
        "  print(k)"
      ],
      "execution_count": null,
      "outputs": [
        {
          "output_type": "stream",
          "text": [
            "x_data\n",
            "y_data\n"
          ],
          "name": "stdout"
        }
      ]
    },
    {
      "cell_type": "code",
      "metadata": {
        "id": "h_5JQl2GoDG5"
      },
      "source": [
        "x_data_test = test_data['x_data']\n",
        "y_data_test = test_data['y_data']"
      ],
      "execution_count": null,
      "outputs": []
    },
    {
      "cell_type": "code",
      "metadata": {
        "id": "URqXf2SToEeL"
      },
      "source": [
        "model = DecisionTreeClassifier()\n",
        "model.fit(x_data_train, y_data_train)\n",
        "pred = model.predict(x_data_test)"
      ],
      "execution_count": null,
      "outputs": []
    },
    {
      "cell_type": "code",
      "metadata": {
        "colab": {
          "base_uri": "https://localhost:8080/"
        },
        "id": "CR2GZDQKoHq1",
        "outputId": "080e1ab0-7876-459e-ac81-8dd56cb148ef"
      },
      "source": [
        "print('Accuracy: ', accuracy_score(y_data_test,pred))\n",
        "print('Precision: ', precision_score(y_data_test,pred))\n",
        "print('Recall: ', recall_score(y_data_test,pred))\n",
        "print('F1 Score: ', f1_score(y_data_test,pred))\n",
        "print('Area under the curve: ', roc_auc_score(y_data_test,pred))"
      ],
      "execution_count": null,
      "outputs": [
        {
          "output_type": "stream",
          "text": [
            "Accuracy:  0.9253246753246753\n",
            "Precision:  0.8947368421052632\n",
            "Recall:  0.9100642398286938\n",
            "F1 Score:  0.9023354564755839\n",
            "Area under the curve:  0.9223523813522554\n"
          ],
          "name": "stdout"
        }
      ]
    },
    {
      "cell_type": "code",
      "metadata": {
        "colab": {
          "base_uri": "https://localhost:8080/"
        },
        "id": "tMU-5VaDoj1k",
        "outputId": "c1dbb5da-c9fc-458f-bcae-b9cdc62db556"
      },
      "source": [
        "tn, fp, fn, tp = confusion_matrix(y_data_test,pred).ravel()\n",
        "\n",
        "print(\"true negative\", tn)\n",
        "print(\"false positive\", fp)\n",
        "print(\"false negative\", fn)\n",
        "print(\"true positive\", tp)\n",
        "specificity = tn / (tn+fp)\n",
        "print(\"specificity is {}\".format(specificity))"
      ],
      "execution_count": null,
      "outputs": [
        {
          "output_type": "stream",
          "text": [
            "true negative 715\n",
            "false positive 50\n",
            "false negative 42\n",
            "true positive 425\n",
            "specificity is 0.934640522875817\n"
          ],
          "name": "stdout"
        }
      ]
    },
    {
      "cell_type": "code",
      "metadata": {
        "colab": {
          "base_uri": "https://localhost:8080/",
          "height": 296
        },
        "id": "p4MM_45zol0d",
        "outputId": "54892cba-1138-4719-f684-01e016569ad2"
      },
      "source": [
        "from sklearn.metrics import plot_roc_curve, plot_confusion_matrix, plot_precision_recall_curve\n",
        "plot_roc_curve(model, x_data_test, y_data_test)"
      ],
      "execution_count": null,
      "outputs": [
        {
          "output_type": "execute_result",
          "data": {
            "text/plain": [
              "<sklearn.metrics._plot.roc_curve.RocCurveDisplay at 0x7f64074716d0>"
            ]
          },
          "metadata": {
            "tags": []
          },
          "execution_count": 11
        },
        {
          "output_type": "display_data",
          "data": {
            "image/png": "[encoded data removed]",
            "text/plain": [
              "<Figure size 432x288 with 1 Axes>"
            ]
          },
          "metadata": {
            "tags": [],
            "needs_background": "light"
          }
        }
      ]
    },
    {
      "cell_type": "code",
      "metadata": {
        "colab": {
          "base_uri": "https://localhost:8080/",
          "height": 296
        },
        "id": "MKd_Wpa8pLWa",
        "outputId": "b9f42a7a-414c-4196-f7fc-8cb146972c28"
      },
      "source": [
        "plot_confusion_matrix(model, x_data_test, y_data_test, cmap='PuBu')"
      ],
      "execution_count": null,
      "outputs": [
        {
          "output_type": "execute_result",
          "data": {
            "text/plain": [
              "<sklearn.metrics._plot.confusion_matrix.ConfusionMatrixDisplay at 0x7f6407471890>"
            ]
          },
          "metadata": {
            "tags": []
          },
          "execution_count": 12
        },
        {
          "output_type": "display_data",
          "data": {
            "image/png": "[encoded data removed]",
            "text/plain": [
              "<Figure size 432x288 with 2 Axes>"
            ]
          },
          "metadata": {
            "tags": [],
            "needs_background": "light"
          }
        }
      ]
    },
    {
      "cell_type": "code",
      "metadata": {
        "colab": {
          "base_uri": "https://localhost:8080/",
          "height": 296
        },
        "id": "zD1CwQ8upNnl",
        "outputId": "f2df3156-7f82-4dc8-e68f-e49a83bd2b37"
      },
      "source": [
        "plot_precision_recall_curve(model, x_data_test, y_data_test)"
      ],
      "execution_count": null,
      "outputs": [
        {
          "output_type": "execute_result",
          "data": {
            "text/plain": [
              "<sklearn.metrics._plot.precision_recall_curve.PrecisionRecallDisplay at 0x7f6406ec9bd0>"
            ]
          },
          "metadata": {
            "tags": []
          },
          "execution_count": 13
        },
        {
          "output_type": "display_data",
          "data": {
            "image/png": "[encoded data removed]",
            "text/plain": [
              "<Figure size 432x288 with 1 Axes>"
            ]
          },
          "metadata": {
            "tags": [],
            "needs_background": "light"
          }
        }
      ]
    }
  ]
}