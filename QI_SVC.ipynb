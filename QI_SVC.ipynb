{
  "nbformat": 4,
  "nbformat_minor": 0,
  "metadata": {
    "colab": {
      "name": "QI_SVC.ipynb",
      "provenance": []
    },
    "kernelspec": {
      "name": "python3",
      "display_name": "Python 3"
    },
    "language_info": {
      "name": "python"
    }
  },
  "cells": [
    {
      "cell_type": "code",
      "metadata": {
        "colab": {
          "base_uri": "https://localhost:8080/"
        },
        "id": "l2Wid-0tE9gA",
        "outputId": "1171ba67-99cf-4854-c3a6-3e54264844f8"
      },
      "source": [
        "from google.colab import drive\n",
        "drive.mount('/content/drive/', force_remount=True)"
      ],
      "execution_count": null,
      "outputs": [
        {
          "output_type": "stream",
          "text": [
            "Mounted at /content/drive/\n"
          ],
          "name": "stdout"
        }
      ]
    },
    {
      "cell_type": "code",
      "metadata": {
        "id": "tVypJX1iFCQE"
      },
      "source": [
        "import pandas as pd\n",
        "import numpy as np \n",
        "import matplotlib.pyplot as plt \n",
        "import cv2 \n",
        "import time \n",
        "import os "
      ],
      "execution_count": null,
      "outputs": []
    },
    {
      "cell_type": "code",
      "metadata": {
        "id": "dQ-1mAbwFHpr"
      },
      "source": [
        "from sklearn.svm import SVC\n",
        "from sklearn.preprocessing import LabelEncoder \n",
        "from sklearn.metrics import accuracy_score, f1_score, recall_score, precision_score, confusion_matrix, roc_auc_score"
      ],
      "execution_count": null,
      "outputs": []
    },
    {
      "cell_type": "code",
      "metadata": {
        "colab": {
          "base_uri": "https://localhost:8080/"
        },
        "id": "5G_-umyCFNh2",
        "outputId": "25561483-d1af-4353-c37e-16b46c159ae8"
      },
      "source": [
        "# load the npz file\n",
        "data_path = '/content/drive/MyDrive/QI/train_compiled.npz'\n",
        "train_data   = np.load(data_path, mmap_mode='r')\n",
        "for k in train_data.files:\n",
        "  print(k)"
      ],
      "execution_count": null,
      "outputs": [
        {
          "output_type": "stream",
          "text": [
            "x_data\n",
            "y_data\n"
          ],
          "name": "stdout"
        }
      ]
    },
    {
      "cell_type": "code",
      "metadata": {
        "id": "gerQdxnWFO8_"
      },
      "source": [
        "x_data_train = train_data['x_data']\n",
        "y_data_train = train_data['y_data']"
      ],
      "execution_count": null,
      "outputs": []
    },
    {
      "cell_type": "code",
      "metadata": {
        "colab": {
          "base_uri": "https://localhost:8080/"
        },
        "id": "jRtt47ZkFRBM",
        "outputId": "64dad1b0-61f4-4586-ad90-84575981c3a7"
      },
      "source": [
        "# load the npz file\n",
        "data_path_test = '/content/drive/MyDrive/QI/test_compiled.npz'\n",
        "test_data   = np.load(data_path_test, mmap_mode='r')\n",
        "for k in test_data.files:\n",
        "  print(k)"
      ],
      "execution_count": null,
      "outputs": [
        {
          "output_type": "stream",
          "text": [
            "x_data\n",
            "y_data\n"
          ],
          "name": "stdout"
        }
      ]
    },
    {
      "cell_type": "code",
      "metadata": {
        "id": "ls_9HTGUFSjs"
      },
      "source": [
        "x_data_test = test_data['x_data']\n",
        "y_data_test = test_data['y_data']"
      ],
      "execution_count": null,
      "outputs": []
    },
    {
      "cell_type": "code",
      "metadata": {
        "id": "mfNA_MoWFWAl"
      },
      "source": [
        "model = SVC()\n",
        "model.C = 100\n",
        "model.fit(x_data_train, y_data_train)\n",
        "pred = model.predict(x_data_test)"
      ],
      "execution_count": null,
      "outputs": []
    },
    {
      "cell_type": "code",
      "metadata": {
        "colab": {
          "base_uri": "https://localhost:8080/"
        },
        "id": "b_qSJCN3FXW2",
        "outputId": "4fff6bea-161a-4c5a-bbdb-dd52e7ea357a"
      },
      "source": [
        "print('Accuracy: ', accuracy_score(y_data_test,pred))\n",
        "print('Precision: ', precision_score(y_data_test,pred))\n",
        "print('Recall: ', recall_score(y_data_test,pred))\n",
        "print('F1 Score: ', f1_score(y_data_test,pred))\n",
        "print('Area under the curve: ', roc_auc_score(y_data_test,pred))"
      ],
      "execution_count": null,
      "outputs": [
        {
          "output_type": "stream",
          "text": [
            "Accuracy:  0.9902597402597403\n",
            "Precision:  0.9830148619957537\n",
            "Recall:  0.9914346895074947\n",
            "F1 Score:  0.9872068230277187\n",
            "Area under the curve:  0.9904885865838127\n"
          ],
          "name": "stdout"
        }
      ]
    },
    {
      "cell_type": "code",
      "metadata": {
        "colab": {
          "base_uri": "https://localhost:8080/"
        },
        "id": "l5a5N244FbH4",
        "outputId": "b575dbb9-51d8-4cf9-fb4c-99ab026c3164"
      },
      "source": [
        "tn, fp, fn, tp = confusion_matrix(y_data_test,pred).ravel()\n",
        "\n",
        "print(\"true negative\", tn)\n",
        "print(\"false positive\", fp)\n",
        "print(\"false negative\", fn)\n",
        "print(\"true positive\", tp)\n",
        "specificity = tn / (tn+fp)\n",
        "print(\"specificity is {}\".format(specificity))"
      ],
      "execution_count": null,
      "outputs": [
        {
          "output_type": "stream",
          "text": [
            "true negative 757\n",
            "false positive 8\n",
            "false negative 4\n",
            "true positive 463\n",
            "specificity is 0.9895424836601308\n"
          ],
          "name": "stdout"
        }
      ]
    },
    {
      "cell_type": "code",
      "metadata": {
        "colab": {
          "base_uri": "https://localhost:8080/",
          "height": 296
        },
        "id": "lp_ZYhzNFctL",
        "outputId": "bbcba3d7-bacd-4c54-cc1c-c24d97c2875d"
      },
      "source": [
        "from sklearn.metrics import plot_roc_curve, plot_confusion_matrix, plot_precision_recall_curve\n",
        "plot_roc_curve(model, x_data_test, y_data_test)"
      ],
      "execution_count": null,
      "outputs": [
        {
          "output_type": "execute_result",
          "data": {
            "text/plain": [
              "<sklearn.metrics._plot.roc_curve.RocCurveDisplay at 0x7f5e18cf9050>"
            ]
          },
          "metadata": {
            "tags": []
          },
          "execution_count": 12
        },
        {
          "output_type": "display_data",
          "data": {
            "image/png": "[encoded data removed]",
            "text/plain": [
              "<Figure size 432x288 with 1 Axes>"
            ]
          },
          "metadata": {
            "tags": [],
            "needs_background": "light"
          }
        }
      ]
    },
    {
      "cell_type": "code",
      "metadata": {
        "colab": {
          "base_uri": "https://localhost:8080/",
          "height": 296
        },
        "id": "7YLXETQGJUY3",
        "outputId": "8f76fcc4-79f6-4c76-9eb7-087dfa78bf06"
      },
      "source": [
        "plot_precision_recall_curve(model, x_data_test, y_data_test)"
      ],
      "execution_count": null,
      "outputs": [
        {
          "output_type": "execute_result",
          "data": {
            "text/plain": [
              "<sklearn.metrics._plot.precision_recall_curve.PrecisionRecallDisplay at 0x7f5e081ae7d0>"
            ]
          },
          "metadata": {
            "tags": []
          },
          "execution_count": 18
        },
        {
          "output_type": "display_data",
          "data": {
            "image/png": "[encoded data removed]",
            "text/plain": [
              "<Figure size 432x288 with 1 Axes>"
            ]
          },
          "metadata": {
            "tags": [],
            "needs_background": "light"
          }
        }
      ]
    },
    {
      "cell_type": "code",
      "metadata": {
        "colab": {
          "base_uri": "https://localhost:8080/",
          "height": 296
        },
        "id": "V6DJMtFgPEqB",
        "outputId": "cc6714b9-df33-4e2f-cba1-9ceba7c9457a"
      },
      "source": [
        "plot_confusion_matrix(model, x_data_test, y_data_test, cmap='PuBu')"
      ],
      "execution_count": null,
      "outputs": [
        {
          "output_type": "execute_result",
          "data": {
            "text/plain": [
              "<sklearn.metrics._plot.confusion_matrix.ConfusionMatrixDisplay at 0x7f5e07aed710>"
            ]
          },
          "metadata": {
            "tags": []
          },
          "execution_count": 19
        },
        {
          "output_type": "display_data",
          "data": {
            "image/png": "[encoded data removed]",
            "text/plain": [
              "<Figure size 432x288 with 2 Axes>"
            ]
          },
          "metadata": {
            "tags": [],
            "needs_background": "light"
          }
        }
      ]
    },
    {
      "cell_type": "code",
      "metadata": {
        "id": "eXwdZhAyPGGF"
      },
      "source": [
        "# try live augmentation on neural networks \n",
        "# Add some randomness in every epoch, this will give good results thus increasing data sets \n",
        "# torch.vision. transformers are good for this "
      ],
      "execution_count": null,
      "outputs": []
    }
  ]
}