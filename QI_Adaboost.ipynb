{
  "nbformat": 4,
  "nbformat_minor": 0,
  "metadata": {
    "colab": {
      "name": "QI_Adaboost.ipynb",
      "provenance": []
    },
    "kernelspec": {
      "name": "python3",
      "display_name": "Python 3"
    },
    "language_info": {
      "name": "python"
    }
  },
  "cells": [
    {
      "cell_type": "code",
      "metadata": {
        "colab": {
          "base_uri": "https://localhost:8080/"
        },
        "id": "-SpgHunZftIt",
        "outputId": "e5e143b0-86aa-4777-8cd0-ff6a2d0310dd"
      },
      "source": [
        "from google.colab import drive\n",
        "drive.mount('/content/drive/', force_remount=True)"
      ],
      "execution_count": null,
      "outputs": [
        {
          "output_type": "stream",
          "text": [
            "Mounted at /content/drive/\n"
          ],
          "name": "stdout"
        }
      ]
    },
    {
      "cell_type": "code",
      "metadata": {
        "id": "dOBozmmYfyX-"
      },
      "source": [
        "import pandas as pd\n",
        "import numpy as np \n",
        "import matplotlib.pyplot as plt \n",
        "import cv2 \n",
        "import time \n",
        "import os "
      ],
      "execution_count": null,
      "outputs": []
    },
    {
      "cell_type": "code",
      "metadata": {
        "id": "P7mgYI84f5wi"
      },
      "source": [
        "from sklearn.ensemble import AdaBoostClassifier\n",
        "from sklearn.preprocessing import LabelEncoder \n",
        "from sklearn.metrics import accuracy_score, f1_score, recall_score, precision_score, confusion_matrix, roc_auc_score"
      ],
      "execution_count": null,
      "outputs": []
    },
    {
      "cell_type": "code",
      "metadata": {
        "colab": {
          "base_uri": "https://localhost:8080/"
        },
        "id": "2bF72we9gH67",
        "outputId": "9d822a3b-271e-4212-fbd6-91b2ee5fbd7e"
      },
      "source": [
        "# load the npz file\n",
        "data_path = '/content/drive/MyDrive/QI/train_compiled.npz'\n",
        "train_data   = np.load(data_path, mmap_mode='r')\n",
        "for k in train_data.files:\n",
        "  print(k)"
      ],
      "execution_count": null,
      "outputs": [
        {
          "output_type": "stream",
          "text": [
            "x_data\n",
            "y_data\n"
          ],
          "name": "stdout"
        }
      ]
    },
    {
      "cell_type": "code",
      "metadata": {
        "id": "SD7F8_pLgSp5"
      },
      "source": [
        "x_data_train = train_data['x_data']\n",
        "y_data_train = train_data['y_data']"
      ],
      "execution_count": null,
      "outputs": []
    },
    {
      "cell_type": "code",
      "metadata": {
        "colab": {
          "base_uri": "https://localhost:8080/"
        },
        "id": "Nqsu2Dg0gUOx",
        "outputId": "037e365b-22eb-425e-cb4c-6eac9011b4f3"
      },
      "source": [
        "# load the npz file\n",
        "data_path_test = '/content/drive/MyDrive/QI/test_compiled.npz'\n",
        "test_data   = np.load(data_path_test, mmap_mode='r')\n",
        "for k in test_data.files:\n",
        "  print(k)"
      ],
      "execution_count": null,
      "outputs": [
        {
          "output_type": "stream",
          "text": [
            "x_data\n",
            "y_data\n"
          ],
          "name": "stdout"
        }
      ]
    },
    {
      "cell_type": "code",
      "metadata": {
        "id": "4m8ZoaCcgVw5"
      },
      "source": [
        "x_data_test = test_data['x_data']\n",
        "y_data_test = test_data['y_data']"
      ],
      "execution_count": null,
      "outputs": []
    },
    {
      "cell_type": "code",
      "metadata": {
        "id": "e0CgXTRIgYCh"
      },
      "source": [
        "model = AdaBoostClassifier(n_estimators=100)\n",
        "model.fit(x_data_train, y_data_train)\n",
        "pred = model.predict(x_data_test)"
      ],
      "execution_count": null,
      "outputs": []
    },
    {
      "cell_type": "code",
      "metadata": {
        "colab": {
          "base_uri": "https://localhost:8080/"
        },
        "id": "rZd5umu-hBLF",
        "outputId": "2185dd07-7a08-4952-a03a-881e75b647ed"
      },
      "source": [
        "print('Accuracy: ', accuracy_score(y_data_test,pred))\n",
        "print('Precision: ', precision_score(y_data_test,pred))\n",
        "print('Recall: ', recall_score(y_data_test,pred))\n",
        "print('F1 Score: ', f1_score(y_data_test,pred))\n",
        "print('Area under the curve: ', roc_auc_score(y_data_test,pred))"
      ],
      "execution_count": null,
      "outputs": [
        {
          "output_type": "stream",
          "text": [
            "Accuracy:  0.9001623376623377\n",
            "Precision:  0.8822222222222222\n",
            "Recall:  0.8501070663811563\n",
            "F1 Score:  0.8658669574700109\n",
            "Area under the curve:  0.8904130103147612\n"
          ],
          "name": "stdout"
        }
      ]
    },
    {
      "cell_type": "code",
      "metadata": {
        "colab": {
          "base_uri": "https://localhost:8080/"
        },
        "id": "5DgQGZwUhDN9",
        "outputId": "349e1d64-4f52-4924-b04f-266fe9f8bd1f"
      },
      "source": [
        "tn, fp, fn, tp = confusion_matrix(y_data_test,pred).ravel()\n",
        "\n",
        "print(\"true negative\", tn)\n",
        "print(\"false positive\", fp)\n",
        "print(\"false negative\", fn)\n",
        "print(\"true positive\", tp)\n",
        "specificity = tn / (tn+fp)\n",
        "print(\"specificity is {}\".format(specificity))"
      ],
      "execution_count": null,
      "outputs": [
        {
          "output_type": "stream",
          "text": [
            "true negative 712\n",
            "false positive 53\n",
            "false negative 70\n",
            "true positive 397\n",
            "specificity is 0.930718954248366\n"
          ],
          "name": "stdout"
        }
      ]
    },
    {
      "cell_type": "code",
      "metadata": {
        "colab": {
          "base_uri": "https://localhost:8080/",
          "height": 296
        },
        "id": "B5y-OCJVhFAj",
        "outputId": "9358fd9a-5fdc-47d3-cde8-9a274d74a0b7"
      },
      "source": [
        "from sklearn.metrics import plot_roc_curve, plot_confusion_matrix, plot_precision_recall_curve\n",
        "plot_roc_curve(model, x_data_test, y_data_test)"
      ],
      "execution_count": null,
      "outputs": [
        {
          "output_type": "execute_result",
          "data": {
            "text/plain": [
              "<sklearn.metrics._plot.roc_curve.RocCurveDisplay at 0x7fae2a998e10>"
            ]
          },
          "metadata": {
            "tags": []
          },
          "execution_count": 11
        },
        {
          "output_type": "display_data",
          "data": {
            "image/png": "[encoded data removed]",
            "text/plain": [
              "<Figure size 432x288 with 1 Axes>"
            ]
          },
          "metadata": {
            "tags": [],
            "needs_background": "light"
          }
        }
      ]
    },
    {
      "cell_type": "code",
      "metadata": {
        "colab": {
          "base_uri": "https://localhost:8080/",
          "height": 296
        },
        "id": "TjJCiDGGhjWI",
        "outputId": "902bfb94-df45-4178-ecb2-6e887b083b8a"
      },
      "source": [
        "plot_precision_recall_curve(model, x_data_test, y_data_test)"
      ],
      "execution_count": null,
      "outputs": [
        {
          "output_type": "execute_result",
          "data": {
            "text/plain": [
              "<sklearn.metrics._plot.precision_recall_curve.PrecisionRecallDisplay at 0x7fae18175390>"
            ]
          },
          "metadata": {
            "tags": []
          },
          "execution_count": 12
        },
        {
          "output_type": "display_data",
          "data": {
            "image/png": "[encoded data removed]",
            "text/plain": [
              "<Figure size 432x288 with 1 Axes>"
            ]
          },
          "metadata": {
            "tags": [],
            "needs_background": "light"
          }
        }
      ]
    },
    {
      "cell_type": "code",
      "metadata": {
        "colab": {
          "base_uri": "https://localhost:8080/",
          "height": 296
        },
        "id": "2iSIhiBdhlak",
        "outputId": "27bf33ea-fd98-475a-8917-f3102de241da"
      },
      "source": [
        "plot_confusion_matrix(model, x_data_test, y_data_test, cmap='PuBu')"
      ],
      "execution_count": null,
      "outputs": [
        {
          "output_type": "execute_result",
          "data": {
            "text/plain": [
              "<sklearn.metrics._plot.confusion_matrix.ConfusionMatrixDisplay at 0x7fae2a998e50>"
            ]
          },
          "metadata": {
            "tags": []
          },
          "execution_count": 13
        },
        {
          "output_type": "display_data",
          "data": {
            "image/png": "[encoded data removed]",
            "text/plain": [
              "<Figure size 432x288 with 2 Axes>"
            ]
          },
          "metadata": {
            "tags": [],
            "needs_background": "light"
          }
        }
      ]
    },
    {
      "cell_type": "code",
      "metadata": {
        "id": "eNDGnMv_hnql"
      },
      "source": [
        ""
      ],
      "execution_count": null,
      "outputs": []
    }
  ]
}